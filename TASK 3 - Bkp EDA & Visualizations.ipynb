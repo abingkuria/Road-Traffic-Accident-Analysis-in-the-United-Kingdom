{
 "cells": [
  {
   "cell_type": "markdown",
   "id": "a4a03015-eca7-4ace-be77-32dfed0bc068",
   "metadata": {},
   "source": [
    "<div style=\"border: 2px solid #007acc; padding: 15px; border-radius: 10px; background-color: #f0f8ff; text-align: left;\">\n",
    "    <h1 style=\"text-align: center;\"><b><i>Road Traffic Accident Analysis in the United Kingdom. </i></b></h1>\n",
    "</div>"
   ]
  },
  {
   "cell_type": "markdown",
   "id": "423d3961-3cb0-4cbd-b16c-67394a64d7c6",
   "metadata": {},
   "source": [
    "<div style=\"border: 2px solid #007acc; padding: 3px; border-radius: 10px; background-color: #007acc; text-align: left;\"> </div>"
   ]
  },
  {
   "cell_type": "markdown",
   "id": "5feda050-9825-46a1-a2d9-a0067b25f36a",
   "metadata": {},
   "source": [
    "<div style=\"border: 2px solid #007acc; padding: 15px; border-radius: 10px; background-color: #f0f8ff; text-align: left;\">\n",
    "    <h2 style=\"text-align: left; font-size: 27px;\"><b>Step 3: 📝 Exploratory Data Analysis (EDA) & Visualizations.</b></h2>\n",
    "</div>"
   ]
  },
  {
   "cell_type": "markdown",
   "id": "f4f86195-f15e-4d51-911e-93be4d064e7a",
   "metadata": {},
   "source": [
    "<div style=\"border: 2px solid #007acc; padding: 3px; border-radius: 10px; background-color: #007acc; text-align: left;\"> </div>"
   ]
  },
  {
   "cell_type": "markdown",
   "id": "1036a101-5dd6-4c6d-81a4-6d9153df3402",
   "metadata": {},
   "source": [
    "#### **About:**\n",
    "##### Exploratory Data Analysis (EDA) & Visualizations is the process of examining a dataset to understand its structure, detect patterns, identify anomalies, and uncover relationships between variables.\n",
    "##### Through statistical summaries and clear visualizations, EDA helps transform raw data into meaningful insights, guiding further analysis and decision-making."
   ]
  },
  {
   "cell_type": "markdown",
   "id": "90dc0bd8-569a-4e36-886b-bbd109be7462",
   "metadata": {},
   "source": [
    "#### **Role About Accident Analysis:**\n",
    "##### Exploratory Data Analysis (EDA) & Visualizations in this project focuses on understanding patterns, trends, and anomalies within UK road traffic accident records.\n",
    "##### By analyzing accident characteristics such as severity, road type, weather, lighting, and location, and visualizing them through charts and graphs, we aim to **uncover factors that influence accident occurrence and impact**.\n",
    "##### This step provides the foundation for deeper analysis, helping to identify key variables for predictive modeling and informed road safety strategies."
   ]
  },
  {
   "cell_type": "markdown",
   "id": "034e5de6-49b5-4beb-af58-8cb066efc3c5",
   "metadata": {},
   "source": [
    "# 3.1 📥 Importing Libraries and Load the Data."
   ]
  },
  {
   "cell_type": "markdown",
   "id": "5463672f-ab52-4ab8-a190-f04ce2597326",
   "metadata": {},
   "source": [
    "<div style=\"border: 2px solid #007acc; padding: 2px; border-radius: 10px; background-color: #007acc; text-align: left;width: 600px;\"> </div>"
   ]
  },
  {
   "cell_type": "markdown",
   "id": "434e655d-e348-431c-9092-2d7174f2c949",
   "metadata": {},
   "source": [
    "## 3.1.1 Import Necessary Libraries."
   ]
  },
  {
   "cell_type": "markdown",
   "id": "dff18d7a-a918-492c-aef1-cb8a8635b4f6",
   "metadata": {},
   "source": [
    "<div style=\"border: 2px solid #007acc; padding: 3px; border-radius: 10px; background-color: #f0f8ff; text-align: left;width: 37%;\"> </div>"
   ]
  },
  {
   "cell_type": "code",
   "execution_count": null,
   "id": "dc9daf9c-e039-4463-8d9e-1b924cdc8926",
   "metadata": {},
   "outputs": [],
   "source": [
    "import pandas as pd\n",
    "import numpy as np\n",
    "import matplotlib\n",
    "import matplotlib.pyplot as plt\n",
    "import seaborn as sns"
   ]
  },
  {
   "cell_type": "markdown",
   "id": "678ed4c8-2c39-4dd8-91af-6234f7ddd024",
   "metadata": {},
   "source": [
    "## 3.1.2 Data Loading."
   ]
  },
  {
   "cell_type": "markdown",
   "id": "ece9e8ae-714f-432d-906b-8fbd4f11e400",
   "metadata": {},
   "source": [
    "<div style=\"border: 2px solid #007acc; padding: 3px; border-radius: 10px; background-color: #f0f8ff; text-align: left;width: 20%;\"> </div>"
   ]
  },
  {
   "cell_type": "code",
   "execution_count": null,
   "id": "d725e0ba-fc5c-4d46-a39e-f46cfc96a060",
   "metadata": {},
   "outputs": [],
   "source": [
    "# Data Loading\n",
    "print('\\n Loading the Road Accident Data...\\n')\n",
    "\n",
    "# Read the CSV file. The file is assumed to be in the specified directory.\n",
    "df = pd.read_csv(r'C:\\Entri\\Project\\data\\my_clean_data_index.csv', encoding='UTF-8-SIG')\n",
    "#df = pd.read_csv(r'C:\\Entri\\Project\\data\\Road Accident Data.csv', keep_default_na=False, na_values=[], encoding='UTF-8-SIG')\n",
    "\n",
    "# Display dataframe shape and few rows.\n",
    "print('Dataset loaded with shape:', df.shape)\n",
    "print (\"Dataset have:\", df.shape[0], \"rows and\", df.shape[1], \"columns\")"
   ]
  },
  {
   "cell_type": "markdown",
   "id": "fb6f920b-72fa-450e-b2a2-3c6ce852bb67",
   "metadata": {},
   "source": [
    "<div style=\"border: 2px solid #007acc; padding: 2px; border-radius: 10px; background-color: #007acc; text-align: left;width: 99%;\"> </div>"
   ]
  },
  {
   "cell_type": "markdown",
   "id": "79ccb1f1-a2b3-4453-9cb3-8e07db377b56",
   "metadata": {},
   "source": [
    "# 3.2 🧬 Checking, Verify and Exporing the Cleaned Dataset."
   ]
  },
  {
   "cell_type": "markdown",
   "id": "6734ac7f-1b1d-47d3-9373-b8b77a4eb548",
   "metadata": {},
   "source": [
    "<div style=\"border: 2px solid #007acc; padding: 2px; border-radius: 10px; background-color: #007acc; text-align: left;width: 73%;\"> </div>"
   ]
  },
  {
   "cell_type": "markdown",
   "id": "3ba57074-cbd0-4d99-b045-e2298b440b96",
   "metadata": {},
   "source": [
    "## First Few Rows From Cleaned Data Set."
   ]
  },
  {
   "cell_type": "markdown",
   "id": "e452698d-a444-4906-a926-602b4ed05614",
   "metadata": {},
   "source": [
    "##### The data set is a cleaned one, having no missing, no duplicate rows."
   ]
  },
  {
   "cell_type": "code",
   "execution_count": null,
   "id": "b9a50f1e-fb0a-4297-95c6-e4340a294c75",
   "metadata": {},
   "outputs": [],
   "source": [
    "df.head()"
   ]
  },
  {
   "cell_type": "markdown",
   "id": "10f10ea7-5adc-4c83-a557-8b4324cfeb4c",
   "metadata": {},
   "source": [
    "### Data Structure Info."
   ]
  },
  {
   "cell_type": "markdown",
   "id": "828fa17b-c466-438e-89b3-e5d8cec36c7d",
   "metadata": {},
   "source": [
    "##### There are 18 fields the one Accident_Index is changed to index. Other fields are converted to object and two fields Number_of_Casualties, Number_of_Vehicles and Speed_limit are retained as numerical. Accident_DateTime have the date and time merged in. The GeoPoint have the lat/long values merged up."
   ]
  },
  {
   "cell_type": "code",
   "execution_count": null,
   "id": "aae83c50-583b-48dc-b78b-8fa063d9c82f",
   "metadata": {},
   "outputs": [],
   "source": [
    "# Structure\n",
    "df.info()"
   ]
  },
  {
   "cell_type": "code",
   "execution_count": null,
   "id": "7c2e5003-2692-4166-9dfb-a6f3962e76ce",
   "metadata": {},
   "outputs": [],
   "source": [
    "#Structure\n",
    "df.columns.tolist()"
   ]
  },
  {
   "cell_type": "markdown",
   "id": "b8900e31-3b37-455e-9460-4c9a2f3f1f2d",
   "metadata": {},
   "source": [
    "### Statistical Summary of the Numeric Columns."
   ]
  },
  {
   "cell_type": "code",
   "execution_count": null,
   "id": "1e7a12fa-3d9d-4831-840a-1f4f81d7a726",
   "metadata": {},
   "outputs": [],
   "source": [
    "df.describe().T"
   ]
  },
  {
   "cell_type": "markdown",
   "id": "1979fef9-70c2-4589-a377-2dd4688f45b8",
   "metadata": {},
   "source": [
    "### Statistical Summary of the Descriptive Columns."
   ]
  },
  {
   "cell_type": "code",
   "execution_count": null,
   "id": "bd620403-8b14-4775-a5cb-f16e6e240c8d",
   "metadata": {},
   "outputs": [],
   "source": [
    "df.describe(include = 'object').T"
   ]
  },
  {
   "cell_type": "markdown",
   "id": "040fe392-a455-4b43-9054-e279a59be153",
   "metadata": {},
   "source": [
    "### Verification of Non Null Values."
   ]
  },
  {
   "cell_type": "code",
   "execution_count": null,
   "id": "5adb90ff-3264-46fe-be1f-39bf0ee2a60e",
   "metadata": {},
   "outputs": [],
   "source": [
    "# Checking of null values.\n",
    "df.isnull().sum()"
   ]
  },
  {
   "cell_type": "code",
   "execution_count": null,
   "id": "29a43f21-9e9f-48ad-a56a-6dc67aa647a9",
   "metadata": {},
   "outputs": [],
   "source": [
    "# 2. Data types & Missing values\n",
    "dtypes_missing = pd.DataFrame({\n",
    "    \"dtype\": df.dtypes.astype(str),\n",
    "    \"missing_count\": df.isna().sum(),\n",
    "    \"missing_percent\": (df.isna().sum()/len(df))*100\n",
    "}).reset_index().rename(columns={\"index\":\"column\"})\n",
    "print(\"\\nData Types & Missing Values:\")\n",
    "print(dtypes_missing)"
   ]
  },
  {
   "cell_type": "markdown",
   "id": "7d3e7938-da0f-45a9-8954-0aca99e4c5de",
   "metadata": {},
   "source": [
    "### Verification of Duplicated Rows."
   ]
  },
  {
   "cell_type": "code",
   "execution_count": null,
   "id": "c80b9eaa-4a96-4915-9098-81ad0cd45d90",
   "metadata": {},
   "outputs": [],
   "source": [
    "# 3. Duplicate check\n",
    "print(\"\\nFull row duplicates:\", df.duplicated().sum())\n",
    "if \"Accident_Index\" in df.columns:\n",
    "    print(\"Duplicate Accident_Index:\", df[\"Accident_Index\"].duplicated().sum())"
   ]
  },
  {
   "cell_type": "markdown",
   "id": "75cfbef6-eafc-4ca9-b9de-9dcb32b5b6a1",
   "metadata": {},
   "source": [
    "<div style=\"border: 2px solid #007acc; padding: 2px; border-radius: 10px; background-color: #007acc; text-align: left;width: 99%;\"> </div>"
   ]
  },
  {
   "cell_type": "markdown",
   "id": "b57b5b45-1712-479a-a8f7-f82d7389b56c",
   "metadata": {},
   "source": [
    "# 3.3 📈 Univariate Analysis."
   ]
  },
  {
   "cell_type": "markdown",
   "id": "8e4b04bb-7f09-4bae-a12e-bb970256ef1f",
   "metadata": {},
   "source": [
    "<div style=\"border: 2px solid #007acc; padding: 2px; border-radius: 10px; background-color: #007acc; text-align: left;width: 32%;\"> </div>"
   ]
  },
  {
   "cell_type": "markdown",
   "id": "3bfaef7e-ded7-4647-bf41-682065541256",
   "metadata": {},
   "source": [
    "### 1. Accident Severity – Bar chart of distribution."
   ]
  },
  {
   "cell_type": "markdown",
   "id": "c45e92da-465e-4293-9780-d0eea6b8089b",
   "metadata": {},
   "source": [
    "<div style=\"border: 2px solid #007acc; padding: 3px; border-radius: 10px; background-color: #f0f8ff; text-align: left;width: 41%;\"> </div>"
   ]
  },
  {
   "cell_type": "code",
   "execution_count": null,
   "id": "17611c4c-45cd-4f61-904b-2e0b8e508b78",
   "metadata": {},
   "outputs": [],
   "source": [
    "plt.figure(figsize=(6,4))\n",
    "sns.countplot(\n",
    "    x=\"Accident_Severity\",\n",
    "    data=df,\n",
    "    order=df[\"Accident_Severity\"].value_counts().index,\n",
    "    hue=\"Accident_Severity\",        # assign palette to this\n",
    "    legend=False,                   # no duplicate legend\n",
    "    palette=\"Set2\"\n",
    ")\n",
    "\n",
    "plt.title(\"Distribution of Accident Severity\", fontsize=14)\n",
    "plt.xlabel(\"Accident Severity\")\n",
    "plt.ylabel(\"Number of Accidents\")\n",
    "plt.show()\n",
    "\n",
    "# Print frequency table\n",
    "severity_counts = df[\"Accident_Severity\"].value_counts(normalize=True) * 100\n",
    "\n",
    "print(\"Accident Severity Distribution (%):\\n\", severity_counts.round(2))"
   ]
  },
  {
   "cell_type": "markdown",
   "id": "40e197d1-0ad9-4c78-bd6c-00df3d47a8db",
   "metadata": {},
   "source": [
    "#### 🔎 Insights:\n",
    "##### The majority of road accidents are classified as Slight, followed by Serious.\n",
    "##### Fatal accidents account for only a small fraction of the total dataset, but they are critical from a road safety perspective."
   ]
  },
  {
   "cell_type": "markdown",
   "id": "e18c948c-27ae-4e9b-a510-f5d34843ea96",
   "metadata": {},
   "source": [
    "### 2. Plotting Accident_DateTime."
   ]
  },
  {
   "cell_type": "markdown",
   "id": "cb638a66-9ecc-4d07-99c6-4c98532ba932",
   "metadata": {},
   "source": [
    "<div style=\"border: 2px solid #007acc; padding: 2px; border-radius: 10px; background-color: #f0f8ff; text-align: left;width: 29%;\"> </div>"
   ]
  },
  {
   "cell_type": "code",
   "execution_count": null,
   "id": "714fa547-9324-4321-b5f4-b11bd5aa93e7",
   "metadata": {},
   "outputs": [],
   "source": [
    "df[\"Accident_DateTime\"] = pd.to_datetime(df[\"Accident_DateTime\"], errors=\"coerce\")\n",
    "\n",
    "# Extract features\n",
    "df[\"Year\"] = df[\"Accident_DateTime\"].dt.year\n",
    "df[\"Month\"] = df[\"Accident_DateTime\"].dt.month\n",
    "df[\"DayOfWeek\"] = df[\"Accident_DateTime\"].dt.day_name()\n",
    "df[\"Hour\"] = df[\"Accident_DateTime\"].dt.hour"
   ]
  },
  {
   "cell_type": "code",
   "execution_count": null,
   "id": "c5314c28-ea80-4c8d-80b7-74eeef587b56",
   "metadata": {},
   "outputs": [],
   "source": [
    "# 1. Yearly trend\n",
    "plt.figure(figsize=(6,4))\n",
    "sns.countplot(x=\"Year\", data=df, hue=\"Year\", palette=\"Set3\", legend=False)\n",
    "plt.title(\"Accidents per Year\")\n",
    "plt.show()"
   ]
  },
  {
   "cell_type": "markdown",
   "id": "7e098c65-3344-4893-a126-114c4e5205ee",
   "metadata": {},
   "source": [
    "### 3. Monthly Trend."
   ]
  },
  {
   "cell_type": "markdown",
   "id": "992f3b22-7ec8-474f-82f5-09e71f704232",
   "metadata": {},
   "source": [
    "<div style=\"border: 2px solid #007acc; padding: 2px; border-radius: 10px; background-color: #f0f8ff; text-align: left;width: 17%;\"> </div>"
   ]
  },
  {
   "cell_type": "code",
   "execution_count": null,
   "id": "0207a599-aab1-40c4-9a63-e979ccaeeca4",
   "metadata": {},
   "outputs": [],
   "source": [
    "# Monthly trend\n",
    "plt.figure(figsize=(6,4))\n",
    "sns.countplot(x=\"Month\", data=df, hue=\"Month\", palette=\"Set2\", legend=False)\n",
    "plt.title(\"Accidents per Month\")\n",
    "plt.show()"
   ]
  },
  {
   "cell_type": "markdown",
   "id": "7ec1585c-2371-4f30-9d5d-ec57eccb0be4",
   "metadata": {},
   "source": [
    "#### Insight:\n",
    "##### A sharp rise is seen in October and November, with November recording the highest accidents (~29,000) — possibly due to bad weather, shorter daylight hours, and increased traffic during pre-winter/holiday season."
   ]
  },
  {
   "cell_type": "markdown",
   "id": "f3c832a4-5fcd-430a-b93f-287ec4bd98de",
   "metadata": {},
   "source": [
    "### 4. Group by Year and Month."
   ]
  },
  {
   "cell_type": "markdown",
   "id": "ddee05a8-b7bb-481c-9b5a-46d8ebbdba5a",
   "metadata": {},
   "source": [
    "<div style=\"border: 2px solid #007acc; padding: 2px; border-radius: 10px; background-color: #f0f8ff; text-align: left;width: 27%;\"> </div>"
   ]
  },
  {
   "cell_type": "code",
   "execution_count": null,
   "id": "525479f6-a1e2-4858-957b-182a10765338",
   "metadata": {},
   "outputs": [],
   "source": [
    "# Group by Year and Month\n",
    "monthly_counts = df.groupby([\"Year\",\"Month\"]).size().reset_index(name=\"Accident_Count\")\n",
    "\n",
    "# Pivot for easier plotting\n",
    "monthly_pivot = monthly_counts.pivot(index=\"Month\", columns=\"Year\", values=\"Accident_Count\")\n",
    "\n",
    "# Plot\n",
    "plt.figure(figsize=(10,6))\n",
    "sns.lineplot(data=monthly_pivot, marker=\"o\")\n",
    "\n",
    "plt.title(\"Monthly Accident Trend Comparison (2021 vs 2022)\", fontsize=14)\n",
    "plt.xlabel(\"Month\")\n",
    "plt.ylabel(\"Number of Accidents\")\n",
    "plt.xticks(range(1,13), \n",
    "           [\"Jan\",\"Feb\",\"Mar\",\"Apr\",\"May\",\"Jun\",\"Jul\",\"Aug\",\"Sep\",\"Oct\",\"Nov\",\"Dec\"])\n",
    "plt.legend(title=\"Year\")\n",
    "plt.show()\n"
   ]
  },
  {
   "cell_type": "markdown",
   "id": "af72ae0d-5de6-4923-b9cd-d4a60e8cc65f",
   "metadata": {},
   "source": [
    "#### Insight:\n",
    "##### 2021 consistently records more accidents than 2022 across almost all months.\n",
    "##### Both years dip slightly in August, possibly due to summer holidays (less commuting).\n",
    "##### Both years rise again in autumn.\n",
    "##### November is the peak month in both years, but 2021 (~ 15.5k) is still significantly higher than 2022 (~13.6k).\n",
    "##### This aligns with seasonal risk factors like shorter daylight hours, bad weather, and higher traffic."
   ]
  },
  {
   "cell_type": "markdown",
   "id": "d1257c65-d5dc-411d-8633-270c02240b13",
   "metadata": {},
   "source": [
    "#### The seasonal pattern is similar in both years (dip in Feb & Aug, peak in Nov), but 2022 has fewer accidents overall, suggesting improvements in road safety or reduced travel exposure."
   ]
  },
  {
   "cell_type": "markdown",
   "id": "af0e7e58-ce96-4d00-9524-d1f796b4992c",
   "metadata": {},
   "source": [
    "### 5. Day of Week Trend."
   ]
  },
  {
   "cell_type": "markdown",
   "id": "466fc654-0c02-4165-9f90-f98b0b920229",
   "metadata": {},
   "source": [
    "<div style=\"border: 2px solid #007acc; padding: 3px; border-radius: 10px; background-color: #f0f8ff; text-align: left;width: 21%;\"> </div>"
   ]
  },
  {
   "cell_type": "code",
   "execution_count": null,
   "id": "1af603d5-7b57-44d9-94d3-01240a194fc6",
   "metadata": {},
   "outputs": [],
   "source": [
    "# Day of Week trend\n",
    "plt.figure(figsize=(7,4))\n",
    "sns.countplot(x=\"DayOfWeek\", data=df, order=[\"Monday\",\"Tuesday\",\"Wednesday\",\"Thursday\",\"Friday\",\"Saturday\",\"Sunday\"],\n",
    "              hue=\"DayOfWeek\", palette=\"Set1\", legend=False)\n",
    "plt.title(\"Accidents by Day of Week\")\n",
    "plt.xticks(rotation=30)\n",
    "plt.show()"
   ]
  },
  {
   "cell_type": "markdown",
   "id": "9d6e7775-ed45-4691-aef1-a2cf40dd4f74",
   "metadata": {},
   "source": [
    "#### Insight:\n",
    "##### Accident risk is highest on weekends, especially Saturday, and lowest on Monday."
   ]
  },
  {
   "cell_type": "markdown",
   "id": "65854ba5-4423-4770-aadf-e9a6fa1baa41",
   "metadata": {},
   "source": [
    "### 6. Group by Year and DayOfWeek."
   ]
  },
  {
   "cell_type": "markdown",
   "id": "29dc88b3-9e8e-4802-b966-bce1be5825bc",
   "metadata": {},
   "source": [
    "<div style=\"border: 2px solid #007acc; padding: 2px; border-radius: 10px; background-color: #f0f8ff; text-align: left;width: 31%;\"> </div>"
   ]
  },
  {
   "cell_type": "code",
   "execution_count": null,
   "id": "e0993396-2310-4f86-83ac-e3b3edbce948",
   "metadata": {},
   "outputs": [],
   "source": [
    "# Group by Year and DayOfWeek\n",
    "dow_counts = df.groupby([\"Year\",\"DayOfWeek\"]).size().reset_index(name=\"Accident_Count\")\n",
    "\n",
    "# Set day order manually for consistency\n",
    "day_order = [\"Monday\",\"Tuesday\",\"Wednesday\",\"Thursday\",\"Friday\",\"Saturday\",\"Sunday\"]\n",
    "dow_counts[\"DayOfWeek\"] = pd.Categorical(dow_counts[\"DayOfWeek\"], categories=day_order, ordered=True)\n",
    "\n",
    "# Pivot for overlapped plotting\n",
    "dow_pivot = dow_counts.pivot(index=\"DayOfWeek\", columns=\"Year\", values=\"Accident_Count\")\n",
    "\n",
    "# Plot\n",
    "plt.figure(figsize=(10,6))\n",
    "sns.lineplot(data=dow_pivot, marker=\"o\")\n",
    "\n",
    "plt.title(\"Accidents by Day of Week (2021 vs 2022)\", fontsize=14)\n",
    "plt.xlabel(\"Day of Week\")\n",
    "plt.ylabel(\"Number of Accidents\")\n",
    "plt.legend(title=\"Year\")\n",
    "plt.show()\n"
   ]
  },
  {
   "cell_type": "markdown",
   "id": "4d6a503e-c102-4e8e-b402-128ecc25d046",
   "metadata": {},
   "source": [
    "#### Insight:\n",
    "##### Accidents peak on Saturday in both years, suggesting weekend travel is consistently risky.\n",
    "✅ Key takeaway: Accident trends by day of week are stable across years, but overall accidents decreased in 2022 compared to 2021 — possibly due to improved safety measures, reduced traffic volumes, or other external factors."
   ]
  },
  {
   "cell_type": "markdown",
   "id": "2fd4eb09-4669-4658-8447-73b4aab300b9",
   "metadata": {},
   "source": [
    "### 7. Hourly Trend."
   ]
  },
  {
   "cell_type": "markdown",
   "id": "a52291da-fe72-4724-9fad-782a166f2a56",
   "metadata": {},
   "source": [
    "<div style=\"border: 2px solid #007acc; padding: 2px; border-radius: 10px; background-color: #f0f8ff; text-align: left;width: 15%;\"> </div>"
   ]
  },
  {
   "cell_type": "code",
   "execution_count": null,
   "id": "a5d67faa-afd1-44a6-8194-39206dd18ba4",
   "metadata": {},
   "outputs": [],
   "source": [
    "# Hourly trend\n",
    "plt.figure(figsize=(8,4))\n",
    "sns.countplot(x=\"Hour\", data=df, hue=\"Hour\", palette=\"Paired\", legend=False)\n",
    "plt.title(\"Accidents by Hour of Day\")\n",
    "plt.show()"
   ]
  },
  {
   "cell_type": "markdown",
   "id": "81446e92-808a-4ca2-b35a-ad6c37f75a4c",
   "metadata": {},
   "source": [
    "#### Insight:\n",
    "\n",
    "##### Rush hours (7–9 AM and 3–6 PM) are the most accident-prone times.\n",
    "\n",
    "##### Peak risk is at 5 PM.\n",
    "\n",
    "##### Road safety interventions (like traffic control, awareness campaigns, and stricter monitoring) could be prioritized during these hours."
   ]
  },
  {
   "cell_type": "markdown",
   "id": "f2a822f2-a5d5-4327-8500-318e67782256",
   "metadata": {},
   "source": [
    "### 8. Group by Year and Hour."
   ]
  },
  {
   "cell_type": "markdown",
   "id": "0d7449c1-105a-49f0-99ae-63458b7528fd",
   "metadata": {},
   "source": [
    "<div style=\"border: 2px solid #007acc; padding: 2px; border-radius: 10px; background-color: #f0f8ff; text-align: left;width: 25%;\"> </div>"
   ]
  },
  {
   "cell_type": "code",
   "execution_count": null,
   "id": "ec0a4a3f-049d-4811-ac31-f597905a7d88",
   "metadata": {},
   "outputs": [],
   "source": [
    "# Group by Year and Hour\n",
    "hour_counts = df.groupby([\"Year\",\"Hour\"]).size().reset_index(name=\"Accident_Count\")\n",
    "\n",
    "# Pivot for overlapped plotting\n",
    "hour_pivot = hour_counts.pivot(index=\"Hour\", columns=\"Year\", values=\"Accident_Count\")\n",
    "\n",
    "# Plot\n",
    "plt.figure(figsize=(12,6))\n",
    "sns.lineplot(data=hour_pivot, marker=\"o\")\n",
    "\n",
    "plt.title(\"Accidents by Hour of Day (2021 vs 2022)\", fontsize=14)\n",
    "plt.xlabel(\"Hour of Day (0 = Midnight, 23 = 11PM)\")\n",
    "plt.ylabel(\"Number of Accidents\")\n",
    "plt.xticks(range(0,24))\n",
    "plt.legend(title=\"Year\")\n",
    "plt.grid(alpha=0.3)\n",
    "plt.show()\n"
   ]
  },
  {
   "cell_type": "markdown",
   "id": "88cf7d93-ee66-40e6-9266-be3ec208ce07",
   "metadata": {},
   "source": [
    "#### 🔎 Insights:\n",
    "\n",
    "##### Both years peak around 5 PM (17 hrs).\n",
    "##### This is the most accident-prone time of day in both years.\n",
    "##### 2022 shows a drop in accident counts across almost all hours compared to 2021.\n",
    "##### The biggest reductions are during midday (10–14 hrs) and evening rush (17–19 hrs).\n",
    "##### Despite the drop, rush hours remain the most dangerous."
   ]
  },
  {
   "cell_type": "markdown",
   "id": "080b10ea-5b32-4bb8-afe9-b1dcad461551",
   "metadata": {},
   "source": [
    "### 9. Hourly distribution of accidents (2021 vs 2022 overlapped)."
   ]
  },
  {
   "cell_type": "markdown",
   "id": "757da0f6-d6a6-4feb-8c65-d666e2607537",
   "metadata": {},
   "source": [
    "<div style=\"border: 2px solid #007acc; padding: 2px; border-radius: 10px; background-color: #f0f8ff; text-align: left;width: 57%;\"> </div>"
   ]
  },
  {
   "cell_type": "code",
   "execution_count": null,
   "id": "957f09e0-8103-4bfb-88cf-2447af46adb9",
   "metadata": {},
   "outputs": [],
   "source": [
    "# Hourly distribution of accidents (2021 vs 2022 overlapped)\n",
    "plt.figure(figsize=(12,6))\n",
    "\n",
    "sns.histplot(data=df[df[\"Year\"] == 2021], x=\"Hour\", bins=24, color=\"blue\", alpha=0.5, label=\"2021\")\n",
    "sns.histplot(data=df[df[\"Year\"] == 2022], x=\"Hour\", bins=24, color=\"orange\", alpha=0.5, label=\"2022\")\n",
    "\n",
    "plt.title(\"Hourly Distribution of Accidents (2021 vs 2022)\")\n",
    "plt.xlabel(\"Hour of Day\")\n",
    "plt.ylabel(\"Number of Accidents\")\n",
    "plt.legend()\n",
    "plt.show()\n"
   ]
  },
  {
   "cell_type": "markdown",
   "id": "6eebc160-6686-4c5e-b542-0fa5e354dfdf",
   "metadata": {},
   "source": [
    "### 10. Percentage Change in Accidents by Hour (2022 vs 2021)."
   ]
  },
  {
   "cell_type": "markdown",
   "id": "7d3e4b1d-cb23-4ac9-ad4c-47cc4783901d",
   "metadata": {},
   "source": [
    "<div style=\"border: 2px solid #007acc; padding: 2px; border-radius: 10px; background-color: #f0f8ff; text-align: left;width: 55%;\"> </div>"
   ]
  },
  {
   "cell_type": "code",
   "execution_count": null,
   "id": "a118031b-27f6-44b3-ad3b-9361f3e8d669",
   "metadata": {},
   "outputs": [],
   "source": [
    "# Group by Year & Hour\n",
    "hourly_counts = df.groupby([\"Year\", \"Hour\"]).size().reset_index(name=\"Accident_Count\")\n",
    "\n",
    "# Pivot to get 2021 and 2022 side by side\n",
    "hourly_pivot = hourly_counts.pivot(index=\"Hour\", columns=\"Year\", values=\"Accident_Count\").fillna(0)\n",
    "\n",
    "# Calculate percentage change\n",
    "hourly_pivot[\"% Change (2022 vs 2021)\"] = ((hourly_pivot[2022] - hourly_pivot[2021]) / hourly_pivot[2021]) * 100\n",
    "\n",
    "# Reset index for plotting\n",
    "hourly_change = hourly_pivot.reset_index()\n",
    "\n",
    "# --- Line Chart of % Change ---\n",
    "plt.figure(figsize=(10,6))\n",
    "sns.lineplot(x=\"Hour\", y=\"% Change (2022 vs 2021)\", data=hourly_change, marker=\"o\", color=\"darkblue\")\n",
    "\n",
    "# Add reference line (0% change)\n",
    "plt.axhline(0, color=\"red\", linestyle=\"--\", linewidth=1)\n",
    "\n",
    "# Titles & labels\n",
    "plt.title(\"Percentage Change in Accidents by Hour (2022 vs 2021)\", fontsize=14, weight=\"bold\")\n",
    "plt.xlabel(\"Hour of Day (0-23)\")\n",
    "plt.ylabel(\"% Change\")\n",
    "plt.xticks(range(0,24))  # Show all hours\n",
    "plt.grid(True, linestyle=\"--\", alpha=0.6)\n",
    "plt.show()\n",
    "\n",
    "# Show the % change table\n",
    "pd.set_option(\"display.precision\", 2)\n",
    "hourly_pivot"
   ]
  },
  {
   "cell_type": "markdown",
   "id": "04a4a0f3-2f92-4bae-866b-b1e369aa0d01",
   "metadata": {},
   "source": [
    "### 11. Number of Casualties."
   ]
  },
  {
   "cell_type": "markdown",
   "id": "9b2e5fba-b07c-4b2d-96da-74b7fe982374",
   "metadata": {},
   "source": [
    "<div style=\"border: 2px solid #007acc; padding: 2px; border-radius: 10px; background-color: #f0f8ff; text-align: left;width: 23%;\"> </div>"
   ]
  },
  {
   "cell_type": "code",
   "execution_count": null,
   "id": "66bd682a-6871-42ab-b64c-ef11f235d651",
   "metadata": {},
   "outputs": [],
   "source": [
    "# Univariate Analysis - Number of Casualties\n",
    "plt.figure(figsize=(12,5))\n",
    "\n",
    "# Histogram\n",
    "plt.subplot(1,2,1)\n",
    "sns.histplot(df[\"Number_of_Casualties\"], bins=20, kde=True, color=\"skyblue\")\n",
    "plt.title(\"Distribution of Number of Casualties\")\n",
    "\n",
    "# Boxplot\n",
    "plt.subplot(1,2,2)\n",
    "sns.boxplot(x=df[\"Number_of_Casualties\"], color=\"lightcoral\")\n",
    "plt.title(\"Boxplot of Number of Casualties\")\n",
    "\n",
    "plt.tight_layout()\n",
    "plt.show()\n"
   ]
  },
  {
   "cell_type": "markdown",
   "id": "53861d10-a906-449e-822b-a8b7011d2c59",
   "metadata": {},
   "source": [
    "Histogram will show whether most accidents involve few casualties (likely concentrated at 1 or 2).\n",
    "\n",
    "Boxplot will highlight outliers (rare but severe accidents with many casualties)."
   ]
  },
  {
   "cell_type": "markdown",
   "id": "963b945b-3a0c-4253-b9b0-852efd311625",
   "metadata": {},
   "source": [
    "### 12. Number of Vehicles."
   ]
  },
  {
   "cell_type": "markdown",
   "id": "6417b99d-5c8a-4373-9847-8938980b520e",
   "metadata": {},
   "source": [
    "<div style=\"border: 2px solid #007acc; padding: 2px; border-radius: 10px; background-color: #f0f8ff; text-align: left;width: 21%;\"> </div>"
   ]
  },
  {
   "cell_type": "code",
   "execution_count": null,
   "id": "262be199-c581-4b77-9eef-7e9809eb1367",
   "metadata": {},
   "outputs": [],
   "source": [
    "# Univariate Analysis - Number of Vehicles\n",
    "\n",
    "# Summary statistics\n",
    "print(\"Summary Statistics for Number_of_Vehicles:\")\n",
    "print(df[\"Number_of_Vehicles\"].describe())\n",
    "\n",
    "# Visualization\n",
    "plt.figure(figsize=(12,5))\n",
    "\n",
    "# Histogram\n",
    "plt.subplot(1,2,1)\n",
    "sns.histplot(df[\"Number_of_Vehicles\"], bins=20, kde=True, color=\"lightgreen\")\n",
    "plt.title(\"Distribution of Number of Vehicles in Accidents\")\n",
    "\n",
    "# Boxplot\n",
    "plt.subplot(1,2,2)\n",
    "sns.boxplot(x=df[\"Number_of_Vehicles\"], color=\"orange\")\n",
    "plt.title(\"Boxplot of Number of Vehicles\")\n",
    "\n",
    "plt.tight_layout()\n",
    "plt.show()\n"
   ]
  },
  {
   "cell_type": "markdown",
   "id": "297c2918-0ce8-4c76-867c-f7856a8997c0",
   "metadata": {},
   "source": [
    "### 13. Speed Limits."
   ]
  },
  {
   "cell_type": "markdown",
   "id": "346e08a3-caef-41de-b4ec-be80a85cb049",
   "metadata": {},
   "source": [
    "<div style=\"border: 2px solid #007acc; padding: 2px; border-radius: 10px; background-color: #f0f8ff; text-align: left;width: 15%;\"> </div>"
   ]
  },
  {
   "cell_type": "code",
   "execution_count": null,
   "id": "6a49c279-1ac7-4e48-847d-9848721b8156",
   "metadata": {},
   "outputs": [],
   "source": [
    "# Histogram of Speed Limits\n",
    "plt.figure(figsize=(7,4))\n",
    "sns.histplot(df[\"Speed_limit\"], bins=10, kde=False, color=\"coral\", edgecolor=\"black\")\n",
    "plt.title(\"Distribution of Speed Limits in Accidents\")\n",
    "plt.xlabel(\"Speed Limit (mph)\")\n",
    "plt.ylabel(\"Number of Accidents\")\n",
    "plt.show()\n"
   ]
  },
  {
   "cell_type": "markdown",
   "id": "f113bdf2-79c1-4422-8922-05282c22a05f",
   "metadata": {},
   "source": [
    "#### Insight:\n",
    "##### This will highlight which speed limits are most common in accident records (for example, 30 mph is usually dominant in urban areas, while 60-70 mph occurs in rural and motorway accidents)."
   ]
  },
  {
   "cell_type": "markdown",
   "id": "13e0665f-e8c3-455c-8947-dd0af3fa3da1",
   "metadata": {},
   "source": [
    "### 14. Road Type."
   ]
  },
  {
   "cell_type": "markdown",
   "id": "46e28af4-dc94-4ee3-bcd2-7bb0a8b18bb3",
   "metadata": {},
   "source": [
    "<div style=\"border: 2px solid #007acc; padding: 2px; border-radius: 10px; background-color: #f0f8ff; text-align: left;width: 15%;\"> </div>"
   ]
  },
  {
   "cell_type": "code",
   "execution_count": null,
   "id": "554188f8-6fab-4d9e-92af-3cc6863714f5",
   "metadata": {},
   "outputs": [],
   "source": [
    "# Bar chart of Road Type \n",
    "plt.figure(figsize=(7,4))\n",
    "sns.countplot(\n",
    "    x=\"Road_Type\",\n",
    "    data=df,\n",
    "    order=df[\"Road_Type\"].value_counts().index,\n",
    "    hue=\"Road_Type\",          # <-- add hue\n",
    "    palette=\"Set2\",\n",
    "    legend=False              # <-- hide duplicate legend\n",
    ")\n",
    "plt.title(\"Distribution of Accidents by Road Type\")\n",
    "plt.xlabel(\"Road Type\")\n",
    "plt.ylabel(\"Number of Accidents\")\n",
    "plt.xticks(rotation=30, ha=\"right\")\n",
    "plt.show()"
   ]
  },
  {
   "cell_type": "code",
   "execution_count": null,
   "id": "40995803-b294-4d84-884d-2b5d682497b8",
   "metadata": {},
   "outputs": [],
   "source": [
    "# Which road types are more accident-prone?\n",
    "ans = df.groupby('Road_Type').agg(Total_Accidents=('Accident_Index', 'count')).reset_index().sort_values(by='Total_Accidents', ascending=False)\n",
    "ans"
   ]
  },
  {
   "cell_type": "code",
   "execution_count": null,
   "id": "0ad5e697-a3cf-4dd8-b482-48113c5e55ca",
   "metadata": {},
   "outputs": [],
   "source": [
    "plt.figure(figsize=(5, 5))\n",
    "plt.pie(ans['Total_Accidents'], labels=ans['Road_Type'], autopct='%1.1f%%', startangle=140)\n",
    "plt.title('Accidents by Road Type')\n",
    "plt.axis('equal')  # Ensures the pie is drawn as a circle\n",
    "plt.show()"
   ]
  },
  {
   "cell_type": "markdown",
   "id": "056af595-40a7-4f5a-a4b7-ce63bae7918c",
   "metadata": {},
   "source": [
    "##### Most accidents happen on single carriageways"
   ]
  },
  {
   "cell_type": "markdown",
   "id": "c8595fac-5888-4f99-8beb-956c41fe7988",
   "metadata": {},
   "source": [
    "### 15. Weather Conditions."
   ]
  },
  {
   "cell_type": "markdown",
   "id": "91ce310e-ab08-489f-b8d8-610385ac14bf",
   "metadata": {},
   "source": [
    "<div style=\"border: 2px solid #007acc; padding: 2px; border-radius: 10px; background-color: #f0f8ff; text-align: left;width: 22%;\"> </div>"
   ]
  },
  {
   "cell_type": "code",
   "execution_count": null,
   "id": "9217a73b-13ff-461d-8e7f-c63827ac4bc9",
   "metadata": {},
   "outputs": [],
   "source": [
    "# Weather Conditions – bar chart\n",
    "plt.figure(figsize=(8,4))\n",
    "sns.countplot(\n",
    "    x=\"Weather_Conditions\",\n",
    "    data=df,\n",
    "    order=df[\"Weather_Conditions\"].value_counts().index,\n",
    "    hue=\"Weather_Conditions\",   # avoids FutureWarning\n",
    "    palette=\"Set2\",\n",
    "    legend=False\n",
    ")\n",
    "plt.title(\"Distribution of Accidents by Weather Conditions\")\n",
    "plt.xlabel(\"Weather Conditions\")\n",
    "plt.ylabel(\"Number of Accidents\")\n",
    "plt.xticks(rotation=30, ha=\"right\")\n",
    "plt.show()\n"
   ]
  },
  {
   "cell_type": "markdown",
   "id": "a8fa0426-b0bf-4afe-a049-bc4ebaebc596",
   "metadata": {},
   "source": [
    "### 16. Light Condition."
   ]
  },
  {
   "cell_type": "markdown",
   "id": "be315f64-d8b4-4924-9bc9-4d5e4ac51ddf",
   "metadata": {},
   "source": [
    "<div style=\"border: 2px solid #007acc; padding: 2px; border-radius: 10px; background-color: #f0f8ff; text-align: left;width: 19%;\"> </div>"
   ]
  },
  {
   "cell_type": "code",
   "execution_count": null,
   "id": "dde9857b-e705-471b-b076-0e0f45b023a5",
   "metadata": {},
   "outputs": [],
   "source": [
    "# Count of each Light Condition\n",
    "plt.figure(figsize=(10,6))\n",
    "sns.countplot(x=\"Light_Conditions\", data=df, order=df['Light_Conditions'].value_counts().index)\n",
    "plt.title(\"Distribution of Light Conditions\")\n",
    "plt.xlabel(\"Light Conditions\")\n",
    "plt.ylabel(\"Number of Accidents\")\n",
    "plt.xticks(rotation=45)  # Rotate x labels if needed\n",
    "plt.show()\n"
   ]
  },
  {
   "cell_type": "markdown",
   "id": "8bbe0865-f31c-4691-80fe-45ecd811c67a",
   "metadata": {},
   "source": [
    "### 17. Urban or Rural Area."
   ]
  },
  {
   "cell_type": "markdown",
   "id": "8ef81e80-c48c-4200-8a54-ad4ecd30a7cf",
   "metadata": {},
   "source": [
    "<div style=\"border: 2px solid #007acc; padding: 2px; border-radius: 10px; background-color: #f0f8ff; text-align: left;width: 22%;\"> </div>"
   ]
  },
  {
   "cell_type": "code",
   "execution_count": null,
   "id": "3a115483-99d4-4775-beb9-41e668237038",
   "metadata": {},
   "outputs": [],
   "source": [
    "plt.figure(figsize=(8,5))\n",
    "sns.countplot(y=\"Urban_or_Rural_Area\", data=df, order=df['Urban_or_Rural_Area'].value_counts().index)\n",
    "plt.title(\"Accidents by Urban/Rural Area\")\n",
    "plt.xlabel(\"Number of Accidents\")\n",
    "plt.ylabel(\"Area Type\")\n",
    "plt.show()\n"
   ]
  },
  {
   "cell_type": "markdown",
   "id": "eca64fdf-3ea4-4bd8-9dc5-64e7b0059af6",
   "metadata": {},
   "source": [
    "### 18. Road Surface Conditions."
   ]
  },
  {
   "cell_type": "markdown",
   "id": "7cd55262-4a42-4abf-97c8-ac599caf7a9c",
   "metadata": {},
   "source": [
    "<div style=\"border: 2px solid #007acc; padding: 3px; border-radius: 10px; background-color: #f0f8ff; text-align: left;width: 27%;\"> </div>"
   ]
  },
  {
   "cell_type": "code",
   "execution_count": null,
   "id": "e020b4b4-ada6-4bae-b1c8-003b2e5ca554",
   "metadata": {},
   "outputs": [],
   "source": [
    "plt.figure(figsize=(10,6))\n",
    "sns.countplot(y=\"Road_Surface_Conditions\", data=df, order=df['Road_Surface_Conditions'].value_counts().index)\n",
    "plt.title(\"Accidents by Road Surface Conditions\")\n",
    "plt.xlabel(\"Number of Accidents\")\n",
    "plt.ylabel(\"Road Surface\")\n",
    "plt.show()\n"
   ]
  },
  {
   "cell_type": "markdown",
   "id": "c2416dd7-6748-4f3e-8b86-bb8086bd733a",
   "metadata": {},
   "source": [
    "### 19. Junction_Control."
   ]
  },
  {
   "cell_type": "markdown",
   "id": "3c70d89a-9a6e-44f1-86c0-6c0eafe3cf52",
   "metadata": {},
   "source": [
    "<div style=\"border: 2px solid #007acc; padding: 2px; border-radius: 10px; background-color: #f0f8ff; text-align: left;width: 19%;\"> </div>"
   ]
  },
  {
   "cell_type": "code",
   "execution_count": null,
   "id": "6727c1da-096d-4cf3-a827-a206f13fe5a5",
   "metadata": {},
   "outputs": [],
   "source": [
    "plt.figure(figsize=(10,6))\n",
    "sns.countplot(y=\"Junction_Control\", data=df, order=df['Junction_Control'].value_counts().index)\n",
    "plt.title(\"Accidents by Junction Control Type\")\n",
    "plt.xlabel(\"Number of Accidents\")\n",
    "plt.ylabel(\"Junction Control\")\n",
    "plt.show()\n"
   ]
  },
  {
   "cell_type": "markdown",
   "id": "a279fdfd-850b-4a0d-9f0c-f1469b13a686",
   "metadata": {},
   "source": [
    "### 20. Local Authority District."
   ]
  },
  {
   "cell_type": "markdown",
   "id": "b050bd7f-2e19-4ff6-ad29-b39b6bf05e3d",
   "metadata": {},
   "source": [
    "<div style=\"border: 2px solid #007acc; padding: 2px; border-radius: 10px; background-color: #f0f8ff; text-align: left;width: 25%;\"> </div>"
   ]
  },
  {
   "cell_type": "code",
   "execution_count": null,
   "id": "b31d4a3a-8cdc-44f9-b0c2-d7ef75fedad6",
   "metadata": {},
   "outputs": [],
   "source": [
    "plt.figure(figsize=(12,8))\n",
    "top_districts = df['Local_Authority_District'].value_counts().head(20)\n",
    "sns.barplot(x=top_districts.values, y=top_districts.index)\n",
    "plt.title(\"Top 20 Districts by Number of Accidents\")\n",
    "plt.xlabel(\"Number of Accidents\")\n",
    "plt.ylabel(\"Local Authority District\")\n",
    "plt.show()\n"
   ]
  },
  {
   "cell_type": "markdown",
   "id": "dc2dd2f1-54be-4be9-8613-cac6a4186eb7",
   "metadata": {},
   "source": [
    "### 21. Police Force."
   ]
  },
  {
   "cell_type": "markdown",
   "id": "9e6bc09f-15e6-4923-b045-cd54d5f433dc",
   "metadata": {},
   "source": [
    "<div style=\"border: 2px solid #007acc; padding: 2px; border-radius: 10px; background-color: #f0f8ff; text-align: left;width: 15%;\"> </div>"
   ]
  },
  {
   "cell_type": "code",
   "execution_count": null,
   "id": "5e4f8817-b6d5-43c1-a0cf-49a2cd0ebc84",
   "metadata": {},
   "outputs": [],
   "source": [
    "plt.figure(figsize=(12,8))\n",
    "top_forces = df['Police_Force'].value_counts().head(20)\n",
    "sns.barplot(x=top_forces.values, y=top_forces.index)\n",
    "plt.title(\"Top 20 Police Forces by Number of Accidents\")\n",
    "plt.xlabel(\"Number of Accidents\")\n",
    "plt.ylabel(\"Police Force\")\n",
    "plt.show()\n"
   ]
  },
  {
   "cell_type": "markdown",
   "id": "7c158ff8-cb8c-4b14-a1e1-16e310807e72",
   "metadata": {},
   "source": [
    "### 22. Vehicle Type."
   ]
  },
  {
   "cell_type": "markdown",
   "id": "1b1c73b0-05a6-4d81-bb1a-b85bfcc09b44",
   "metadata": {},
   "source": [
    "<div style=\"border: 2px solid #007acc; padding: 2px; border-radius: 10px; background-color: #f0f8ff; text-align: left;width: 15%;\"> </div>"
   ]
  },
  {
   "cell_type": "code",
   "execution_count": null,
   "id": "e6fc099d-b5b7-49c2-afbc-c080f88f239f",
   "metadata": {},
   "outputs": [],
   "source": [
    "plt.figure(figsize=(10,6))\n",
    "sns.countplot(y=\"Vehicle_Type\", data=df, order=df['Vehicle_Type'].value_counts().index)\n",
    "plt.title(\"Accidents by Vehicle Type\")\n",
    "plt.xlabel(\"Number of Accidents\")\n",
    "plt.ylabel(\"Vehicle Type\")\n",
    "plt.show()\n"
   ]
  },
  {
   "cell_type": "markdown",
   "id": "b383534f-5771-4904-8f68-cc0e8348d625",
   "metadata": {},
   "source": [
    "### General Function For Study purpose."
   ]
  },
  {
   "cell_type": "markdown",
   "id": "ded28429-39a8-4b48-a6d5-f3a3bef15da4",
   "metadata": {},
   "source": [
    "<div style=\"border: 2px solid #007acc; padding: 2px; border-radius: 10px; background-color: #f0f8ff; text-align: left;width: 35%;\"> </div>"
   ]
  },
  {
   "cell_type": "code",
   "execution_count": null,
   "id": "c32652ae-8fe5-44ff-a563-a8bca0a5addf",
   "metadata": {},
   "outputs": [],
   "source": [
    "# ************ For Study purpose general function for all the above graphs.\n",
    "\n",
    "# This is a common function wrote togeneralise for the horizontal bar chart. Study purpose.\n",
    "def plot_categorical_bar_matplotlib(df, column, top_n=None, figsize=(10,6), title=None, cmap='viridis'):\n",
    "    \"\"\"\n",
    "    Plots a horizontal bar chart for a categorical column using matplotlib.\n",
    "    \"\"\"\n",
    "    counts = df[column].value_counts()\n",
    "    if top_n:\n",
    "        counts = counts.head(top_n)\n",
    "    \n",
    "    plt.figure(figsize=figsize)\n",
    "    \n",
    "    # Get colormap and generate colors for each bar\n",
    "    cmap_obj = matplotlib.colormaps.get_cmap(cmap)\n",
    "    colors = cmap_obj(np.linspace(0, 1, len(counts)))\n",
    "    \n",
    "    plt.barh(counts.index, counts.values, color=colors)\n",
    "    \n",
    "    plt.xlabel(\"Number of Accidents\")\n",
    "    plt.ylabel(column.replace('_',' '))\n",
    "    plt.title(title if title else f\"Accidents by {column.replace('_',' ')}\")\n",
    "    plt.gca().invert_yaxis()  # Highest count on top\n",
    "    plt.show()\n"
   ]
  },
  {
   "cell_type": "code",
   "execution_count": null,
   "id": "45454f56-a42f-4468-8abc-99ef6752ab8d",
   "metadata": {},
   "outputs": [],
   "source": [
    "#plot_categorical_bar_matplotlib(df, \"Vehicle_Type\")\n",
    "#plot_categorical_bar_matplotlib(df, \"Urban_or_Rural_Area\")\n",
    "#plot_categorical_bar_matplotlib(df, \"Local_Authority_District\", top_n=20)"
   ]
  },
  {
   "cell_type": "markdown",
   "id": "caa45cd8-a450-4ad6-9930-bd6c91408b07",
   "metadata": {},
   "source": [
    "<div style=\"border: 2px solid #007acc; padding: 2px; border-radius: 10px; background-color: #007acc; text-align: left;width: 99%;\"> </div>"
   ]
  },
  {
   "cell_type": "markdown",
   "id": "4c927d8a-f7e0-4b72-b788-00e3d6b3f2e8",
   "metadata": {},
   "source": [
    "# 3.4 🔗 Bivariate Analysis.¶"
   ]
  },
  {
   "cell_type": "markdown",
   "id": "f8fb21c9-33eb-4d12-9bb9-77a96ba59542",
   "metadata": {},
   "source": [
    "<div style=\"border: 2px solid #007acc; padding: 2px; border-radius: 10px; background-color: #007acc; text-align: left;width: 37%;\"> </div>"
   ]
  },
  {
   "cell_type": "markdown",
   "id": "dd1f4bd6-3f11-4790-b23c-5048a4235655",
   "metadata": {},
   "source": [
    "## 3.4.1 General Function for Categorical X Categorical."
   ]
  },
  {
   "cell_type": "markdown",
   "id": "d22b37f5-405e-44a1-b013-373895596b54",
   "metadata": {},
   "source": [
    "<div style=\"border: 2px solid #007acc; padding: 3px; border-radius: 10px; background-color: #f0f8ff; text-align: left;width: 52%;\"> </div>"
   ]
  },
  {
   "cell_type": "code",
   "execution_count": null,
   "id": "d60adde2-f42b-4beb-b11b-22149fcd789f",
   "metadata": {},
   "outputs": [],
   "source": [
    "def plot_cat_vs_cat(df, cat1, cat2, top_n_cat1=None, top_n_cat2=None, figsize=(12,6), title=None):\n",
    "    \"\"\"\n",
    "    Plots a grouped bar chart for two categorical variables.\n",
    "\n",
    "    Parameters:\n",
    "    - df: pandas DataFrame\n",
    "    - cat1: string, column for x-axis\n",
    "    - cat2: string, column for hue\n",
    "    - top_n_cat1: int or None, top N categories to show for cat1\n",
    "    - top_n_cat2: int or None, top N categories to show for cat2\n",
    "    - figsize: tuple, figure size\n",
    "    - title: string, chart title\n",
    "    \"\"\"\n",
    "    data = df.copy()\n",
    "    \n",
    "    # Keep only top N categories if specified\n",
    "    if top_n_cat1:\n",
    "        top1 = data[cat1].value_counts().nlargest(top_n_cat1).index\n",
    "        data = data[data[cat1].isin(top1)]\n",
    "        \n",
    "    if top_n_cat2:\n",
    "        top2 = data[cat2].value_counts().nlargest(top_n_cat2).index\n",
    "        data = data[data[cat2].isin(top2)]\n",
    "    \n",
    "    plt.figure(figsize=figsize)\n",
    "    sns.countplot(x=cat1, hue=cat2, data=data)\n",
    "    plt.xlabel(cat1.replace('_',' '))\n",
    "    plt.ylabel(\"Number of Accidents\")\n",
    "    plt.title(title if title else f\"{cat1.replace('_',' ')} vs {cat2.replace('_',' ')}\")\n",
    "    plt.xticks(rotation=45)\n",
    "    plt.legend(title=cat2.replace('_',' '))\n",
    "    plt.show()\n"
   ]
  },
  {
   "cell_type": "markdown",
   "id": "5fc8ff9a-f1f2-46a3-b5e9-76f9a3a87391",
   "metadata": {},
   "source": [
    "### 1. Accident Severity vs Light Conditions."
   ]
  },
  {
   "cell_type": "markdown",
   "id": "66b405dc-5b04-489b-94e3-0c31f44c4459",
   "metadata": {},
   "source": [
    "<div style=\"border: 2px solid #007acc; padding: 2px; border-radius: 10px; background-color: #f0f8ff; text-align: left;width: 37%;\"> </div>"
   ]
  },
  {
   "cell_type": "code",
   "execution_count": null,
   "id": "9ca61efe-f76e-4af3-aadc-50859b8ff9e5",
   "metadata": {},
   "outputs": [],
   "source": [
    "#Accident Severity vs Light Conditions\n",
    "plot_cat_vs_cat(df, \"Accident_Severity\", \"Light_Conditions\")"
   ]
  },
  {
   "cell_type": "markdown",
   "id": "fd4826a2-e91a-41b8-9267-c3491a8d8746",
   "metadata": {},
   "source": [
    "### 2. Accident Severity vs Urban/Rural Area."
   ]
  },
  {
   "cell_type": "markdown",
   "id": "04761797-4d77-433d-8c98-57dd012e3a18",
   "metadata": {},
   "source": [
    "<div style=\"border: 2px solid #007acc; padding: 2px; border-radius: 10px; background-color: #f0f8ff; text-align: left;width: 39%;\"> </div>"
   ]
  },
  {
   "cell_type": "code",
   "execution_count": null,
   "id": "f2a0645d-a2ff-4a57-9a1c-82982e8f41ba",
   "metadata": {},
   "outputs": [],
   "source": [
    "# Accident Severity vs Urban/Rural Area\n",
    "plot_cat_vs_cat(df, \"Accident_Severity\", \"Urban_or_Rural_Area\")"
   ]
  },
  {
   "cell_type": "markdown",
   "id": "1304d872-3bb8-48ff-8e35-ecf1ef429ca9",
   "metadata": {},
   "source": [
    "### 3. Accident Severity vs Weather Conditions."
   ]
  },
  {
   "cell_type": "markdown",
   "id": "964de2c3-57f6-4b1e-8899-a72f4e3aa537",
   "metadata": {},
   "source": [
    "<div style=\"border: 2px solid #007acc; padding: 2px; border-radius: 10px; background-color: #f0f8ff; text-align: left;width: 41%;\"> </div>"
   ]
  },
  {
   "cell_type": "code",
   "execution_count": null,
   "id": "3772392d-3d2d-49d8-8ae1-fca4ab88d3b0",
   "metadata": {},
   "outputs": [],
   "source": [
    "# Accident Severity vs Weather Conditions (top 10 weather types only)\n",
    "plot_cat_vs_cat(df, \"Accident_Severity\", \"Weather_Conditions\", top_n_cat2=10)"
   ]
  },
  {
   "cell_type": "markdown",
   "id": "95335cd0-4047-4218-b725-e10619fdab9b",
   "metadata": {},
   "source": [
    "### 4. Accident Severity vs Road_Type."
   ]
  },
  {
   "cell_type": "markdown",
   "id": "660217cd-c414-4fa4-b831-f478029273d8",
   "metadata": {},
   "source": [
    "<div style=\"border: 2px solid #007acc; padding: 2px; border-radius: 10px; background-color: #f0f8ff; text-align: left;width: 33%;\"> </div>"
   ]
  },
  {
   "cell_type": "code",
   "execution_count": null,
   "id": "edf1df9f-dc27-421b-9fe5-cc459d60f399",
   "metadata": {},
   "outputs": [],
   "source": [
    "plot_cat_vs_cat(df, \"Accident_Severity\", \"Road_Type\", top_n_cat2=10)"
   ]
  },
  {
   "cell_type": "markdown",
   "id": "e0db6aae-42df-4e8d-a6d9-449faca15417",
   "metadata": {},
   "source": [
    "### 5. Accident Severity vs Junction_Control."
   ]
  },
  {
   "cell_type": "markdown",
   "id": "e23f4218-f796-4d88-ba8f-9d48fba06b5f",
   "metadata": {},
   "source": [
    "<div style=\"border: 2px solid #007acc; padding: 2px; border-radius: 10px; background-color: #f0f8ff; text-align: left;width: 39%;\"> </div>"
   ]
  },
  {
   "cell_type": "code",
   "execution_count": null,
   "id": "71362bb8-4a06-4315-9161-9ef4257b5904",
   "metadata": {},
   "outputs": [],
   "source": [
    "plot_cat_vs_cat(df, \"Accident_Severity\", \"Junction_Control\")"
   ]
  },
  {
   "cell_type": "markdown",
   "id": "20b74b33-d197-4652-99bb-6fff4d8ac213",
   "metadata": {},
   "source": [
    "### 6. Accident Severity vs Road_Surface_Conditions."
   ]
  },
  {
   "cell_type": "markdown",
   "id": "5b7a91b6-b557-48a7-801b-26d5c19aa288",
   "metadata": {},
   "source": [
    "<div style=\"border: 2px solid #007acc; padding: 2px; border-radius: 10px; background-color: #f0f8ff; text-align: left;width: 47%;\"> </div>"
   ]
  },
  {
   "cell_type": "code",
   "execution_count": null,
   "id": "57e39b50-d478-4ade-be38-b9f429e006b0",
   "metadata": {},
   "outputs": [],
   "source": [
    "plot_cat_vs_cat(df, \"Accident_Severity\", \"Road_Surface_Conditions\")"
   ]
  },
  {
   "cell_type": "markdown",
   "id": "66da1378-bc0f-43c9-b617-928c275142a7",
   "metadata": {},
   "source": [
    "### 7. Accident Severity vs Vehicle_Type."
   ]
  },
  {
   "cell_type": "markdown",
   "id": "ee0e41e8-483d-4357-bbd6-791172041ea6",
   "metadata": {},
   "source": [
    "<div style=\"border: 2px solid #007acc; padding: 2px; border-radius: 10px; background-color: #f0f8ff; text-align: left;width: 35%;\"> </div>"
   ]
  },
  {
   "cell_type": "code",
   "execution_count": null,
   "id": "f617448e-e3ff-447d-a840-fab9cf79cdfe",
   "metadata": {
    "scrolled": true
   },
   "outputs": [],
   "source": [
    "plot_cat_vs_cat(df, \"Accident_Severity\", \"Vehicle_Type\", top_n_cat2=8)"
   ]
  },
  {
   "cell_type": "markdown",
   "id": "eb72243f-e016-4ab1-805e-4381a3e61311",
   "metadata": {},
   "source": [
    "## 3.4.2 General Function for Categorical X Numerical."
   ]
  },
  {
   "cell_type": "markdown",
   "id": "e5eaa7b5-cd2b-409f-8dcf-bdc600453fb5",
   "metadata": {},
   "source": [
    "<div style=\"border: 2px solid #007acc; padding: 3px; border-radius: 10px; background-color: #f0f8ff; text-align: left;width: 57%;\"> </div>"
   ]
  },
  {
   "cell_type": "markdown",
   "id": "8a478d9a-dd2d-4e3b-a809-1b5fd75ef979",
   "metadata": {},
   "source": [
    "##### Below is the general function created so that Bar plot (for mean) and box plot(for distribution) and the statistical summary can generate. This helps easy to pass all the field names and helps the analysis easy. Only need to call the function and pass the required parameters."
   ]
  },
  {
   "cell_type": "code",
   "execution_count": null,
   "id": "0a4c0b73-e0a5-4947-92ec-27ca348be7b1",
   "metadata": {},
   "outputs": [],
   "source": [
    "def analyze_categorical(df, field, target=\"Number_of_Casualties\", \n",
    "                        top_n=None, figsize=(8,4), colors=\"Set2\", order_by=\"frequency\"):\n",
    "    \"\"\"\n",
    "    Analyze a categorical field against a target variable.\n",
    "    \n",
    "    Parameters:\n",
    "    df        : DataFrame\n",
    "    field     : str, categorical column name\n",
    "    target    : str, numeric column (e.g., \"Number_of_Casualties\" or \"Number_of_Vehicles\")\n",
    "    top_n     : int, optional (limit to top N categories after sorting)\n",
    "    figsize   : tuple, size of the plots (width, height)\n",
    "    colors    : str or list, seaborn palette name or custom color list\n",
    "    order_by  : str, \"frequency\" | \"alphabetical\" | \"mean\"\n",
    "    \"\"\"\n",
    "\n",
    "    print(f\"\\n====== {field} vs {target} ======\")\n",
    "\n",
    "    # --- Summary table on full dataset ---\n",
    "    summary_table = df.groupby(field)[target].describe()\n",
    "\n",
    "    # --- Ordering ---\n",
    "    if order_by in [\"frequency\", \"count\"]:\n",
    "        order = df[field].value_counts().index\n",
    "    elif order_by == \"alphabetical\":\n",
    "        order = sorted(df[field].dropna().unique())\n",
    "    elif order_by == \"mean\":\n",
    "        order = df.groupby(field)[target].mean().sort_values(ascending=False).index\n",
    "    else:\n",
    "        order = df[field].unique()\n",
    "\n",
    "    # Apply top_n AFTER sorting\n",
    "    if top_n:\n",
    "        order = order[:top_n]\n",
    "\n",
    "    # Restrict data and summary_table to final order\n",
    "    data = df[df[field].isin(order)]\n",
    "    summary_table = summary_table.reindex(order)\n",
    "\n",
    "    categories = len(order)\n",
    "\n",
    "    # --- Generate consistent palette ---\n",
    "    if isinstance(colors, list):\n",
    "        if len(colors) < categories:\n",
    "            colors = sns.color_palette(\"husl\", categories)  # auto-expand\n",
    "        else:\n",
    "            colors = colors[:categories]\n",
    "    else:\n",
    "        colors = sns.color_palette(colors, categories)\n",
    "\n",
    "    # --- Barplot (Mean Target) ---\n",
    "    plt.figure(figsize=figsize)\n",
    "    sns.barplot(\n",
    "        x=field, \n",
    "        y=target, \n",
    "        data=data, \n",
    "        estimator=np.mean, \n",
    "        errorbar=None, \n",
    "        palette=colors,\n",
    "        order=order,\n",
    "        hue=field,        \n",
    "        legend=False      \n",
    "    )\n",
    "    plt.xticks(rotation=45)\n",
    "    plt.title(f\"Average {target} by {field}\", fontsize=14)\n",
    "    plt.ylabel(f\"Average {target}\")\n",
    "    plt.xlabel(field)\n",
    "    plt.show()\n",
    "\n",
    "    # --- Boxplot (Distribution) ---\n",
    "    plt.figure(figsize=figsize)\n",
    "    sns.boxplot(\n",
    "        x=field, \n",
    "        y=target, \n",
    "        data=data, \n",
    "        palette=colors,\n",
    "        order=order,\n",
    "        hue=field,       \n",
    "        legend=False     \n",
    "    )\n",
    "    plt.xticks(rotation=45)\n",
    "    plt.title(f\"Distribution of {target} by {field}\", fontsize=14)\n",
    "    plt.ylabel(target)\n",
    "    plt.xlabel(field)\n",
    "    plt.show()\n",
    "\n",
    "    return summary_table\n",
    "\n",
    "\n",
    "# Sample call\n",
    "# Order categories by frequency\n",
    "#analyze_categorical(df, \"Weather_Conditions\", target=\"Number_of_Casualties\", order_by=\"frequency\")\n",
    "\n",
    "# Order alphabetically\n",
    "#analyze_categorical(df, \"Vehicle_Type\", target=\"Number_of_Vehicles\", order_by=\"alphabetical\", colors=\"Set3\")\n",
    "\n",
    "# Order by mean casualties\n",
    "#analyze_categorical(df, \"Junction_Control\", target=\"Number_of_Casualties\", order_by=\"mean\", top_n=5, colors=\"coolwarm\")"
   ]
  },
  {
   "cell_type": "code",
   "execution_count": null,
   "id": "884b2a65-868b-4819-aba8-ad9d710c9542",
   "metadata": {},
   "outputs": [],
   "source": [
    "# This is another general function that gives the chart side by side and helps analysis.\n",
    "\n",
    "def dual_analysis(data, field, target=\"Number_of_Casualties\", order=\"alphabetical\", top_n=None):\n",
    "    \"\"\"\n",
    "    Create two side-by-side plots:\n",
    "      1. Accident frequency by category\n",
    "      2. Mean casualties (or target) by category\n",
    "\n",
    "    Parameters:\n",
    "        data   : DataFrame\n",
    "        field  : str, categorical field name\n",
    "        target : str, numeric field name (default 'Number_of_Casualties')\n",
    "        order  : 'alphabetical' | 'frequency' | 'mean'  (sorting of categories)\n",
    "        top_n  : int or None, take only top N categories (after sorting)\n",
    "    \"\"\"\n",
    "\n",
    "    # --- Aggregate ---\n",
    "    summary = data.groupby(field)[target].agg(\n",
    "        count=\"count\", mean=\"mean\"\n",
    "    ).reset_index()\n",
    "\n",
    "    # --- Sorting ---\n",
    "    if order == \"alphabetical\":\n",
    "        summary = summary.sort_values(field)\n",
    "    elif order == \"frequency\":\n",
    "        summary = summary.sort_values(\"count\", ascending=False)\n",
    "    elif order == \"mean\":\n",
    "        summary = summary.sort_values(\"mean\", ascending=False)\n",
    "\n",
    "    if top_n:\n",
    "        summary = summary.head(top_n)\n",
    "\n",
    "    # --- Plot ---\n",
    "    fig, axes = plt.subplots(1, 2, figsize=(16, 6))\n",
    "\n",
    "    # Accident Frequency\n",
    "    sns.barplot(\n",
    "        data=summary, x=field, y=\"count\",\n",
    "        ax=axes[0], color=\"skyblue\"\n",
    "    )\n",
    "    axes[0].set_title(f\"Accident Frequency by {field}\")\n",
    "    axes[0].set_ylabel(\"Number of Accidents\")\n",
    "    axes[0].set_xlabel(field)\n",
    "    axes[0].tick_params(axis=\"x\", rotation=75)\n",
    "\n",
    "    # Mean Casualties\n",
    "    sns.barplot(\n",
    "        data=summary, x=field, y=\"mean\",\n",
    "        ax=axes[1], color=\"salmon\"\n",
    "    )\n",
    "    axes[1].set_title(f\"Mean {target} by {field}\")\n",
    "    axes[1].set_ylabel(f\"Average {target}\")\n",
    "    axes[1].set_xlabel(field)\n",
    "    axes[1].tick_params(axis=\"x\", rotation=75)\n",
    "\n",
    "    plt.tight_layout()\n",
    "    plt.show()\n"
   ]
  },
  {
   "cell_type": "code",
   "execution_count": null,
   "id": "212cc2c0-041e-4d4d-880c-5993c5b7f85e",
   "metadata": {},
   "outputs": [],
   "source": [
    "# General function for analysis\n",
    "# Plots top N categories of a categorical field: bar shows count, line shows mean of a numeric field.\n",
    "\n",
    "def plot_top_n_risk_sorted(df, field, numeric_field, top_n=10, sort_by='count'):\n",
    "    \"\"\"\n",
    "    Plots top_n categories with bars for count and line for mean numeric_field.\n",
    "    \n",
    "    Parameters:\n",
    "        df (pd.DataFrame): Original dataframe (not modified)\n",
    "        field (str): Categorical column name\n",
    "        numeric_field (str): Numeric column to calculate mean\n",
    "        top_n (int): Number of top categories to show\n",
    "        sort_by (str): 'count', 'mean', or 'alphabet' for sorting\n",
    "    Returns:\n",
    "        pd.DataFrame: grouped dataframe with count and mean\n",
    "    \"\"\"\n",
    "    # Group by field\n",
    "    grouped = df.groupby(field)[numeric_field].agg(count='count', mean='mean').reset_index()\n",
    "    \n",
    "    # Sort based on parameter\n",
    "    if sort_by == 'count':\n",
    "        grouped_sorted = grouped.sort_values(by='count', ascending=False)\n",
    "        sort_label = \"Count\"\n",
    "    elif sort_by == 'mean':\n",
    "        grouped_sorted = grouped.sort_values(by='mean', ascending=False)\n",
    "        sort_label = f\"Mean {numeric_field}\"\n",
    "    elif sort_by == 'alphabet':\n",
    "        grouped_sorted = grouped.sort_values(by=field, ascending=True)\n",
    "        sort_label = \"Alphabetical Order\"\n",
    "    else:\n",
    "        raise ValueError(\"sort_by must be 'count', 'mean', or 'alphabet'\")\n",
    "    \n",
    "    # Take top_n\n",
    "    grouped_top = grouped_sorted.head(top_n)\n",
    "    \n",
    "    # Plot\n",
    "    plt.figure(figsize=(12,6))\n",
    "    sns.barplot(x=field, y='count', data=grouped_top, color='skyblue')\n",
    "    plt.xticks(rotation=45, ha='right')\n",
    "    \n",
    "    ax2 = plt.twinx()\n",
    "    sns.lineplot(x=field, y='mean', data=grouped_top, sort=False, marker='o', color='red', ax=ax2)\n",
    "    \n",
    "    # ✅ Dynamic title\n",
    "    plt.title(f\"Top {top_n} {field} sorted by {sort_label}\\n(with Mean {numeric_field} line)\")\n",
    "    plt.ylabel('Count')\n",
    "    ax2.set_ylabel(f'Mean {numeric_field}')\n",
    "    \n",
    "    plt.tight_layout()\n",
    "    plt.show()\n",
    "    \n",
    "    return grouped_top\n"
   ]
  },
  {
   "cell_type": "markdown",
   "id": "92dbb3f3-19d5-4a90-a0b3-2f97dda9c6b2",
   "metadata": {},
   "source": [
    "### 8. Accident Severity vs Number_of_Casualties."
   ]
  },
  {
   "cell_type": "markdown",
   "id": "672a5186-cf7a-4d05-89c0-ee72a7fc8c6a",
   "metadata": {},
   "source": [
    "<div style=\"border: 2px solid #007acc; padding: 2px; border-radius: 10px; background-color: #f0f8ff; text-align: left;width: 43%;\"> </div>"
   ]
  },
  {
   "cell_type": "code",
   "execution_count": null,
   "id": "a7a29afc-68ff-49bf-a5c6-4086cb3004cd",
   "metadata": {},
   "outputs": [],
   "source": [
    "# Accident Severity\n",
    "analyze_categorical(df, \"Accident_Severity\", target=\"Number_of_Casualties\", order_by=\"alphabetical\", colors=\"Set2\")"
   ]
  },
  {
   "cell_type": "markdown",
   "id": "7813874a-65dd-4d11-88fd-413ae16ec03f",
   "metadata": {},
   "source": [
    "##### Accident Severity\tInference\n",
    "##### Fatal\t\n",
    "Average of 1.8 casualties per accident, with high variation (up to 48 casualties in extreme cases). Fatal accidents tend to involve more casualties compared to other severities.\n",
    "\n",
    "##### Serious\t\n",
    "Average of 1.46 casualties per accident, mostly 1–2 casualties, but occasionally extreme cases (up to 42 casualties).\n",
    "\n",
    "##### Slight\t\n",
    "Average of 1.33 casualties per accident, majority involve only 1 person, with rare large-scale accidents (up to 43 casualties).\n",
    "\n",
    "##### Overall: \n",
    "Fatal accidents are generally more severe in terms of casualties per accident, while slight accidents are usually limited to single-casualty events."
   ]
  },
  {
   "cell_type": "code",
   "execution_count": null,
   "id": "2dfb0652-7e4d-49ab-b02c-a558efc3c3a6",
   "metadata": {},
   "outputs": [],
   "source": []
  },
  {
   "cell_type": "markdown",
   "id": "8d7d8ac3-0aa1-42bb-a669-92c392526e7f",
   "metadata": {},
   "source": [
    "### 9. Accident Severity vs Number_of_Vehicles."
   ]
  },
  {
   "cell_type": "markdown",
   "id": "bad722c4-a581-4e3f-aef8-ed109ad5a917",
   "metadata": {},
   "source": [
    "<div style=\"border: 2px solid #007acc; padding: 2px; border-radius: 10px; background-color: #f0f8ff; text-align: left;width: 43%;\"> </div>"
   ]
  },
  {
   "cell_type": "code",
   "execution_count": null,
   "id": "20e6a7c2-d37d-4edc-8aeb-ab779d0714a2",
   "metadata": {},
   "outputs": [],
   "source": [
    "# Accident Severity\n",
    "analyze_categorical(df, \"Accident_Severity\", target=\"Number_of_Vehicles\", order_by=\"alphabetical\", colors=\"Set2\")"
   ]
  },
  {
   "cell_type": "markdown",
   "id": "8d95b179-8439-4221-84a4-51b2c84c4ca2",
   "metadata": {},
   "source": [
    "##### Accident Severity\tInference\n",
    "##### Fatal\n",
    "Average of 1.76–1.80 vehicles per accident. Majority involve 2 vehicles, but rare extreme multi-vehicle cases occur (up to 16–48 vehicles in worst cases).\n",
    "##### Serious\t\n",
    "Average of 1.46–1.68 vehicles per accident. Mostly 1–2 vehicles, with few large accidents (up to 19–42 vehicles).\n",
    "##### Slight\t\n",
    "Average of 1.33–1.85 vehicles per accident. Majority involve 1–2 vehicles, though occasional large pile-ups happen (up to 32–43 vehicles).\n",
    "\n",
    "##### Overall: \n",
    "Slight and serious accidents usually involve fewer vehicles (1–2), while fatal accidents tend to involve slightly more vehicles on average and sometimes extreme multi-vehicle collisions."
   ]
  },
  {
   "cell_type": "markdown",
   "id": "efe5e14d-ee38-4e42-ba6e-b34857f14296",
   "metadata": {},
   "source": [
    "### 10. Road_Type by Number_of_Vehicles."
   ]
  },
  {
   "cell_type": "markdown",
   "id": "3edecf38-1f8a-4e5f-8644-1039aa43272c",
   "metadata": {},
   "source": [
    "<div style=\"border: 2px solid #007acc; padding: 2px; border-radius: 10px; background-color: #f0f8ff; text-align: left;width: 37%;\"> </div>"
   ]
  },
  {
   "cell_type": "code",
   "execution_count": null,
   "id": "af0d6902-16d0-4ecf-9812-f794c6fdba04",
   "metadata": {},
   "outputs": [],
   "source": [
    "# Road Type\n",
    "analyze_categorical(df, \"Road_Type\", target=\"Number_of_Vehicles\", order_by=\"alphabetical\", colors=\"Set2\")"
   ]
  },
  {
   "cell_type": "markdown",
   "id": "59f03a28-4e6d-454f-815c-fe2beb4ea96a",
   "metadata": {},
   "source": []
  },
  {
   "cell_type": "code",
   "execution_count": null,
   "id": "a7986a6d-e192-4368-9517-51de2773dae2",
   "metadata": {},
   "outputs": [],
   "source": [
    "# violinplot\n",
    "plt.figure(figsize=(8,4))\n",
    "sns.violinplot(x=\"Road_Type\", y=\"Number_of_Vehicles\", data=df)\n",
    "plt.xlabel(\"Road Type\")\n",
    "plt.ylabel(\"Number of Vehicles\")\n",
    "plt.title(\"Number of Vehicles by Road Type\")\n",
    "plt.xticks(rotation=45)\n",
    "plt.show()\n"
   ]
  },
  {
   "cell_type": "markdown",
   "id": "1f6efd1f-3480-474d-8546-05fa1b501b3e",
   "metadata": {},
   "source": [
    "##### Over all:\n",
    "Most accidents across all road types involve 1–2 vehicles.\n",
    "\n",
    "Dual carriageways and roundabouts show a higher tendency for multi-vehicle collisions.\n",
    "\n",
    "One-way streets generally have the lowest vehicle involvement due to traffic flow restrictions."
   ]
  },
  {
   "cell_type": "markdown",
   "id": "8bef1b49-8547-47f4-985e-e6b32bb0b982",
   "metadata": {},
   "source": [
    "### 11. Road_Surface_Conditions by Number_of_Casualties."
   ]
  },
  {
   "cell_type": "markdown",
   "id": "2dc3fc7d-b221-4614-b107-92860db6cd84",
   "metadata": {},
   "source": [
    "<div style=\"border: 2px solid #007acc; padding: 2px; border-radius: 10px; background-color: #f0f8ff; text-align: left;width: 52%;\"> </div>"
   ]
  },
  {
   "cell_type": "code",
   "execution_count": null,
   "id": "77f57553-c115-4404-91c5-cb0a10f441ab",
   "metadata": {},
   "outputs": [],
   "source": [
    "# Road Surface Conditions\n",
    "analyze_categorical(df, \"Road_Surface_Conditions\", target=\"Number_of_Casualties\", order_by=\"alphabetical\", colors=\"Set2\")"
   ]
  },
  {
   "cell_type": "markdown",
   "id": "5739b7ee-c3f4-42f0-8d7e-7ddb705e6ec2",
   "metadata": {},
   "source": [
    "##### Overall:\n",
    "Accidents on dry roads are the most frequent but relatively less severe, while flooded and wet conditions increase casualty severity. Extreme surfaces like ice can cause rare but very high-casualty accidents."
   ]
  },
  {
   "cell_type": "markdown",
   "id": "da419fc3-aa65-4bc9-88a1-3a93cc4d1a14",
   "metadata": {},
   "source": [
    "### 12. Urban_or_Rural_Area by Number_of_Casualties."
   ]
  },
  {
   "cell_type": "markdown",
   "id": "c1d8bf10-9a6d-4f60-a83a-df52a66fa316",
   "metadata": {},
   "source": [
    "<div style=\"border: 2px solid #007acc; padding: 2px; border-radius: 10px; background-color: #f0f8ff; text-align: left;width: 47%;\"> </div>"
   ]
  },
  {
   "cell_type": "code",
   "execution_count": null,
   "id": "84983452-a755-408f-a874-c2b5ef5c5ce9",
   "metadata": {},
   "outputs": [],
   "source": [
    "# Urban or Rural Area\n",
    "analyze_categorical(df, \"Urban_or_Rural_Area\", target=\"Number_of_Casualties\", order_by=\"alphabetical\", colors=\"Set2\")"
   ]
  },
  {
   "cell_type": "markdown",
   "id": "e782bafd-d6b3-4c48-ab97-95c3a288ad76",
   "metadata": {},
   "source": [
    "### 13. Junction_Control by Number_of_Vehicles."
   ]
  },
  {
   "cell_type": "markdown",
   "id": "146fd437-58f4-48e4-854c-c586bf6a87ee",
   "metadata": {},
   "source": [
    "<div style=\"border: 2px solid #007acc; padding: 2px; border-radius: 10px; background-color: #f0f8ff; text-align: left;width: 43%;\"> </div>"
   ]
  },
  {
   "cell_type": "code",
   "execution_count": null,
   "id": "ab1ae49b-121c-418c-8344-f14da8d44309",
   "metadata": {},
   "outputs": [],
   "source": [
    "# Junction Control\n",
    "analyze_categorical(df, \"Junction_Control\", target=\"Number_of_Vehicles\", order_by=\"alphabetical\", colors=\"Set2\")"
   ]
  },
  {
   "cell_type": "markdown",
   "id": "d6d7f7c5-9fea-4e23-b8f2-9b60dd02f96f",
   "metadata": {},
   "source": [
    "##### 📝 Key Takeaway\n",
    "\n",
    "Stop sign junctions → highest casualty severity per crash.\n",
    "\n",
    "Uncontrolled junctions → biggest contributor in terms of volume.\n",
    "\n",
    "Data missing is too large to ignore and may distort real patterns.\n",
    "\n",
    "Pileups (non-junction accidents) create extreme casualty outliers.\n",
    "\n",
    "##### 👉 Policy/Safety implications:\n",
    "\n",
    "Improve enforcement at uncontrolled junctions (biggest share).\n",
    "\n",
    "Reassess stop sign junction safety design (highest severity).\n",
    "\n",
    "Strengthen signal compliance monitoring."
   ]
  },
  {
   "cell_type": "markdown",
   "id": "1ec168fe-04b8-4db5-bde0-216713228085",
   "metadata": {},
   "source": [
    "### 14. Junction_Detail by Number_of_Vehicles."
   ]
  },
  {
   "cell_type": "markdown",
   "id": "13d6e80e-b220-4a2f-ac49-1aae3fcf06d7",
   "metadata": {},
   "source": [
    "<div style=\"border: 2px solid #007acc; padding: 2px; border-radius: 10px; background-color: #f0f8ff; text-align: left;width: 40%;\"> </div>"
   ]
  },
  {
   "cell_type": "code",
   "execution_count": null,
   "id": "d6e5da56-b48c-4c76-9b23-4407dc9d6e41",
   "metadata": {},
   "outputs": [],
   "source": [
    "# Junction Detail\n",
    "analyze_categorical(df, \"Junction_Detail\", target=\"Number_of_Vehicles\", order_by=\"alphabetical\", colors=\"Set2\")"
   ]
  },
  {
   "cell_type": "code",
   "execution_count": null,
   "id": "75468040-7220-4295-b131-dfb035ffb695",
   "metadata": {},
   "outputs": [],
   "source": []
  },
  {
   "cell_type": "markdown",
   "id": "6fd423d3-652c-496e-aa6b-16fd0b075059",
   "metadata": {},
   "source": [
    "### 15. Junction_Detail by Number_of_Casualties."
   ]
  },
  {
   "cell_type": "markdown",
   "id": "ca345a33-5457-4078-b0a0-397433c942fe",
   "metadata": {},
   "source": [
    "<div style=\"border: 2px solid #007acc; padding: 2px; border-radius: 10px; background-color: #f0f8ff; text-align: left;width: 43%;\"> </div>"
   ]
  },
  {
   "cell_type": "code",
   "execution_count": null,
   "id": "c4c73d35-8520-4c4d-804d-c9a3164c3b7b",
   "metadata": {},
   "outputs": [],
   "source": [
    "# Junction_Detail vs Casualties\n",
    "dual_analysis(df, \"Junction_Detail\", target=\"Number_of_Casualties\", order=\"alphabetical\")"
   ]
  },
  {
   "cell_type": "markdown",
   "id": "36fabf93-4ffd-4c6c-b0db-7c2a38f07d6f",
   "metadata": {},
   "source": [
    "### 16. Junction_Detail by Number_of_Vehicles."
   ]
  },
  {
   "cell_type": "markdown",
   "id": "07ebd92b-52f3-4ecd-8e4d-512d82677d8e",
   "metadata": {},
   "source": [
    "<div style=\"border: 2px solid #007acc; padding: 2px; border-radius: 10px; background-color: #f0f8ff; text-align: left;width: 40%;\"> </div>"
   ]
  },
  {
   "cell_type": "code",
   "execution_count": null,
   "id": "e6584e8c-677f-4b3e-bdc3-2981fe0a4c45",
   "metadata": {},
   "outputs": [],
   "source": [
    "# Junction_Detail vs Vehicles\n",
    "dual_analysis(df, \"Junction_Detail\", target=\"Number_of_Vehicles\", order=\"alphabetical\")"
   ]
  },
  {
   "cell_type": "markdown",
   "id": "49ce762f-7076-449d-876f-8434c480b79a",
   "metadata": {},
   "source": [
    "##### 📝 Key Takeaways\n",
    "\n",
    "Slip roads and private driveways are riskier per crash (higher severity).\n",
    "\n",
    "T-junctions and “Not at junction” areas are biggest contributors overall (because of sheer volume).\n",
    "\n",
    "Roundabouts & crossroads → moderate severity, but still significant due to volume.\n",
    "\n",
    "Pileups happen mostly outside junctions (max casualties = 32).\n",
    "\n",
    "##### 👉 Policy/Safety implications:\n",
    "\n",
    "Enforce speed control & signage at slip roads and private driveways → reduce high-severity crashes.\n",
    "\n",
    "Target T-junctions and non-junction stretches with better visibility, road design, and traffic calming → reduce total crash burden.\n",
    "\n",
    "Roundabouts are relatively safer (lower variability), but still need monitoring due to frequency."
   ]
  },
  {
   "cell_type": "markdown",
   "id": "cd5bd6bc-466f-48f0-8c5b-f94f6737daad",
   "metadata": {},
   "source": [
    "### 17. Light_Conditions by Number_of_Casualties."
   ]
  },
  {
   "cell_type": "markdown",
   "id": "384cac98-b259-438b-a711-138ab6a11580",
   "metadata": {},
   "source": [
    "<div style=\"border: 2px solid #007acc; padding: 2px; border-radius: 10px; background-color: #f0f8ff; text-align: left;width: 45%;\"> </div>"
   ]
  },
  {
   "cell_type": "code",
   "execution_count": null,
   "id": "3e2fb788-04dc-48e3-8bfb-0977aa0ec68e",
   "metadata": {},
   "outputs": [],
   "source": [
    "# Light Conditions\n",
    "analyze_categorical(df, \"Light_Conditions\", target=\"Number_of_Casualties\", order_by=\"alphabetical\", colors=\"Set2\")"
   ]
  },
  {
   "cell_type": "markdown",
   "id": "bb33cefa-e24c-4819-8d46-72235e0b58a7",
   "metadata": {},
   "source": [
    "##### ✅ Overall Key Takeaways\n",
    "\n",
    "Most accidents happen during daylight (likely due to traffic volume).\n",
    "\n",
    "Accidents in complete darkness are slightly more severe on average.\n",
    "\n",
    "The majority of accidents are slight, but poor lighting increases risk of more serious outcomes.\n",
    "\n",
    "Outliers in severity need checking (max 48 seems unrealistic) – may require data cleaning."
   ]
  },
  {
   "cell_type": "markdown",
   "id": "6428132f-10ed-475d-94fd-75050e5371d0",
   "metadata": {},
   "source": [
    "### 18. Local_Authority_District by Number_of_Vehicles."
   ]
  },
  {
   "cell_type": "markdown",
   "id": "d3e31f0e-8bf0-4eee-a0fb-94ae3bc57abe",
   "metadata": {},
   "source": [
    "<div style=\"border: 2px solid #007acc; padding: 2px; border-radius: 10px; background-color: #f0f8ff; text-align: left;width: 49%;\"> </div>"
   ]
  },
  {
   "cell_type": "code",
   "execution_count": null,
   "id": "1adca163-cddc-4d5e-9803-c7c1ec5f6fe2",
   "metadata": {},
   "outputs": [],
   "source": [
    "# Local Authority District\n",
    "analyze_categorical(df, \"Local_Authority_District\", target=\"Number_of_Vehicles\", order_by=\"count\", top_n = 20, colors=\"Set2\")"
   ]
  },
  {
   "cell_type": "code",
   "execution_count": null,
   "id": "52e28c3b-ff4d-4d6a-879b-f6afb428ab9f",
   "metadata": {},
   "outputs": [],
   "source": [
    "# Example usage:\n",
    "#grouped_df = plot_top_n_risk_sorted(df, field='Local_Authority_District', numeric_field='Number_of_Casualties', top_n=10, sort_by='count')\n",
    "grouped_df = plot_top_n_risk_sorted(df, field='Local_Authority_District', numeric_field='Number_of_Vehicles', top_n=20, sort_by='count')\n",
    "#grouped_df = plot_top_n_risk_sorted(df, field='Local_Authority_District', numeric_field='Number_of_Casualties', top_n=10, sort_by='alphabet')\n",
    "grouped_df"
   ]
  },
  {
   "cell_type": "markdown",
   "id": "bbdb411a-67dd-4fc8-b972-9271bca59dd1",
   "metadata": {},
   "source": [
    "##### 💡 Summary Insight:\n",
    "\n",
    "High frequency + moderate mean → busy urban areas with frequent minor collisions.\n",
    "\n",
    "Lower frequency + higher mean → less traffic, but more serious or multi-vehicle accidents.\n",
    "\n",
    "Targeting accident prevention measures may differ:\n",
    "\n",
    "Urban districts: focus on congestion & minor collision mitigation.\n",
    "\n",
    "Suburban/rural districts: focus on multi-vehicle accident prevention and major collision response."
   ]
  },
  {
   "cell_type": "markdown",
   "id": "e372c645-f509-4473-82ee-92602d72cb23",
   "metadata": {},
   "source": [
    "### 19. Carriageway_Hazards by Number_of_Vehicles."
   ]
  },
  {
   "cell_type": "markdown",
   "id": "ff342813-2e97-42a0-8894-8688218741d2",
   "metadata": {},
   "source": [
    "<div style=\"border: 2px solid #007acc; padding: 2px; border-radius: 10px; background-color: #f0f8ff; text-align: left;width: 47%;\"> </div>"
   ]
  },
  {
   "cell_type": "code",
   "execution_count": null,
   "id": "b85507da-75a0-4171-891d-24a95306e9b4",
   "metadata": {},
   "outputs": [],
   "source": [
    "# Carriageway Hazards\n",
    "analyze_categorical(df, \"Carriageway_Hazards\", target=\"Number_of_Vehicles\", order_by=\"mean\", colors=\"Set2\")"
   ]
  },
  {
   "cell_type": "markdown",
   "id": "6239ace4-a771-4b17-963c-38f1549e9811",
   "metadata": {},
   "source": [
    "##### Summary Insight:\n",
    "\n",
    "High-severity accidents are associated with previous accident locations and vehicle loads.\n",
    "\n",
    "Most frequent accidents occur under normal conditions (no visible hazard) and are mostly minor.\n",
    "\n",
    "Pedestrian/animal-related accidents are low-impact but still important for safety measures."
   ]
  },
  {
   "cell_type": "markdown",
   "id": "6dba2f07-0ef8-4c27-b828-5bd918b1f3ec",
   "metadata": {},
   "source": [
    "### 20. Police_Force by Number_of_Casualties."
   ]
  },
  {
   "cell_type": "markdown",
   "id": "f3c0fa25-8e53-4cb9-8745-78ffaa31f97a",
   "metadata": {},
   "source": [
    "<div style=\"border: 2px solid #007acc; padding: 2px; border-radius: 10px; background-color: #f0f8ff; text-align: left;width: 39%;\"> </div>"
   ]
  },
  {
   "cell_type": "code",
   "execution_count": null,
   "id": "3d98f477-4aba-476f-9812-2bcce97cb1f7",
   "metadata": {},
   "outputs": [],
   "source": [
    "# Police Force\n",
    "analyze_categorical(df, \"Police_Force\", target=\"Number_of_Casualties\", order_by=\"mean\", top_n=15, colors=\"Set2\")"
   ]
  },
  {
   "cell_type": "code",
   "execution_count": null,
   "id": "80ebbe3a-f6aa-4a99-bf26-5753fdbe451e",
   "metadata": {},
   "outputs": [],
   "source": [
    "# Example usage:\n",
    "#grouped_df = plot_top_n_risk_sorted(df, field='Police_Force', numeric_field='Number_of_Casualties', top_n=10, sort_by='count')\n",
    "grouped_df = plot_top_n_risk_sorted(df, field='Police_Force', numeric_field='Number_of_Casualties', top_n=15, sort_by='mean')\n",
    "#grouped_df = plot_top_n_risk_sorted(df, field='Police_Force', numeric_field='Number_of_Casualties', top_n=10, sort_by='alphabet')\n",
    "grouped_df"
   ]
  },
  {
   "cell_type": "markdown",
   "id": "d13b6e85-1b2a-44e3-8e21-811513192979",
   "metadata": {},
   "source": [
    "##### 💡 Summary Insight:\n",
    "\n",
    "High-traffic areas like Greater Manchester and West Yorkshire have the highest accident frequency.\n",
    "\n",
    "Most accidents are minor (1–2 vehicles) across all police forces.\n",
    "\n",
    "Occasional large multi-vehicle incidents occur, mostly in less urban areas, but they are rare."
   ]
  },
  {
   "cell_type": "markdown",
   "id": "72d20a87-dd19-473d-afd0-a3d1c0989180",
   "metadata": {},
   "source": [
    "### 21. Weather_Conditions by Number_of_Casualties."
   ]
  },
  {
   "cell_type": "markdown",
   "id": "4ce4a087-e1fc-4d59-be16-a6f41e5edae7",
   "metadata": {},
   "source": [
    "<div style=\"border: 2px solid #007acc; padding: 2px; border-radius: 10px; background-color: #f0f8ff; text-align: left;width: 47%;\"> </div>"
   ]
  },
  {
   "cell_type": "code",
   "execution_count": null,
   "id": "b08e5b5e-91d5-43c0-bae3-6a80e60d6dfb",
   "metadata": {},
   "outputs": [],
   "source": [
    "# Weather Conditions\n",
    "analyze_categorical(df, \"Weather_Conditions\", target=\"Number_of_Casualties\", order_by=\"alphabetical\", colors=\"Set2\")\n"
   ]
  },
  {
   "cell_type": "markdown",
   "id": "aba65652-a3e5-4861-ac0e-0bfe5b4de3d4",
   "metadata": {},
   "source": [
    "##### 💡 Summary Insight:\n",
    "\n",
    "Most accidents happen in fine weather, indicating driver behavior is a major factor.\n",
    "\n",
    "Poor weather slightly increases multi-vehicle involvement, but these accidents are less frequent.\n",
    "\n",
    "Rare large collisions can occur under any weather conditions."
   ]
  },
  {
   "cell_type": "markdown",
   "id": "07e40572-1034-4a39-89ab-679cfb256f38",
   "metadata": {},
   "source": [
    "### 22. Vehicle_Type by Number_of_Vehicles."
   ]
  },
  {
   "cell_type": "markdown",
   "id": "3030ccae-032f-4514-a04f-ef7c8f424be7",
   "metadata": {},
   "source": [
    "<div style=\"border: 2px solid #007acc; padding: 2px; border-radius: 10px; background-color: #f0f8ff; text-align: left;width: 39%;\"> </div>"
   ]
  },
  {
   "cell_type": "code",
   "execution_count": null,
   "id": "7fe6db6e-1034-49d7-a591-ae33ce242b40",
   "metadata": {},
   "outputs": [],
   "source": [
    "# Vehicle Type vs Number_of_Vehicles\n",
    "analyze_categorical(df, \"Vehicle_Type\", target=\"Number_of_Vehicles\", order_by=\"alphabetical\", colors=\"Set2\")\n"
   ]
  },
  {
   "cell_type": "code",
   "execution_count": null,
   "id": "50d79328-b8a3-4571-8802-e1bcdc2bd79c",
   "metadata": {},
   "outputs": [],
   "source": [
    "# Vehicle_Type vs Casualties\n",
    "dual_analysis(df, \"Vehicle_Type\", target=\"Number_of_Casualties\", order=\"alphabetical\")"
   ]
  },
  {
   "cell_type": "code",
   "execution_count": null,
   "id": "483c11c5-2d68-47cf-b228-bf43e036cab0",
   "metadata": {},
   "outputs": [],
   "source": [
    "# Vehicle_Type vs Casualties\n",
    "dual_analysis(df, \"Vehicle_Type\", target=\"Number_of_Casualties\", order=\"alphabetical\")"
   ]
  },
  {
   "cell_type": "code",
   "execution_count": null,
   "id": "66a8ddc6-0eb9-45a8-9a56-25be065b6e77",
   "metadata": {},
   "outputs": [],
   "source": [
    "# Example usage:\n",
    "#grouped_df = plot_top_n_risk_sorted(df, field='Vehicle_Type', numeric_field='Number_of_Casualties', top_n=10, sort_by='count')\n",
    "#grouped_df = plot_top_n_risk_sorted(df, field='Vehicle_Type', numeric_field='Number_of_Vehicles', top_n=15, sort_by='mean')\n",
    "grouped_df = plot_top_n_risk_sorted(df, field='Vehicle_Type', numeric_field='Number_of_Vehicles', top_n=10, sort_by='alphabet')\n",
    "grouped_df"
   ]
  },
  {
   "cell_type": "markdown",
   "id": "78062aed-29cb-4733-94f3-3fce8b6a70e4",
   "metadata": {},
   "source": [
    "##### 💡 Summary Insight:\n",
    "\n",
    "Cars and vans dominate accident counts but usually involve small numbers of vehicles (1–2).\n",
    "\n",
    "Pedal cycles and small motorcycles show slightly higher mean vehicles involved, suggesting higher multi-vehicle interaction.\n",
    "\n",
    "Ridden horses are rare and low-risk in terms of multi-vehicle collisions.\n",
    "\n",
    "Extreme multi-vehicle accidents exist but are uncommon, mostly involving cars."
   ]
  },
  {
   "cell_type": "markdown",
   "id": "c55f0184-9900-4419-a742-7621e9bd7541",
   "metadata": {},
   "source": [
    "## 3.4.3 General Function for Numerical X Numerical."
   ]
  },
  {
   "cell_type": "markdown",
   "id": "bdce97a3-0454-4a95-928b-507bac0a4f84",
   "metadata": {},
   "source": [
    "<div style=\"border: 2px solid #007acc; padding: 3px; border-radius: 10px; background-color: #f0f8ff; text-align: left;width: 52%;\"> </div>"
   ]
  },
  {
   "cell_type": "code",
   "execution_count": null,
   "id": "bda41780-0ce8-43c2-8190-bdcc97d2df64",
   "metadata": {},
   "outputs": [],
   "source": [
    "def plot_scatter_with_summary(df, x, y, hue=None, figsize=(6,4), bin_x=True, bins=10):\n",
    "    \"\"\"\n",
    "    Scatter plot, summary table, and bar+line plot for numeric vs numeric variables.\n",
    "\n",
    "    Parameters:\n",
    "        df     : DataFrame\n",
    "        x, y   : numeric columns\n",
    "        hue    : optional categorical column\n",
    "        figsize: tuple\n",
    "        bin_x  : bool, whether to bin x for grouping\n",
    "        bins   : number of bins if bin_x=True\n",
    "\n",
    "    Returns:\n",
    "        summary_table : DataFrame of descriptive stats per bin/hue\n",
    "    \"\"\"\n",
    "    data = df[[x, y]].copy()\n",
    "    if hue:\n",
    "        data[hue] = df[hue]\n",
    "\n",
    "    # Bin x if needed\n",
    "    if bin_x and data[x].nunique() > bins:\n",
    "        data['x_bin'] = pd.qcut(data[x], q=bins, duplicates='drop')\n",
    "        group_field = 'x_bin'\n",
    "    else:\n",
    "        group_field = hue if hue else None\n",
    "\n",
    "    # --- Scatter plot ---\n",
    "    plt.figure(figsize=figsize)\n",
    "    sns.scatterplot(data=data, x=x, y=y, hue=hue, alpha=0.5)\n",
    "    plt.title(f'{y} vs {x}', fontsize=14)\n",
    "    plt.xlabel(x)\n",
    "    plt.ylabel(y)\n",
    "    plt.tight_layout()\n",
    "    plt.show()\n",
    "\n",
    "    # --- Summary table ---\n",
    "    if group_field:\n",
    "        summary_table = data.groupby(group_field, observed=False)[y].describe()\n",
    "    else:\n",
    "        summary_table = data[y].describe().to_frame().T\n",
    "\n",
    "    # --- Bar + Line plot ---\n",
    "    if group_field:\n",
    "        agg = data.groupby(group_field, observed=False)[y].agg(count='count', mean='mean').reset_index()\n",
    "        \n",
    "        # Convert Interval or categorical to string for plotting\n",
    "        agg[group_field] = agg[group_field].astype(str)\n",
    "\n",
    "        fig, ax1 = plt.subplots(figsize=figsize)\n",
    "        \n",
    "        sns.barplot(x=group_field, y='count', data=agg, color='skyblue', ax=ax1)\n",
    "        ax1.set_xlabel(group_field)\n",
    "        ax1.set_ylabel('Count', color='skyblue')\n",
    "        ax1.tick_params(axis='y', labelcolor='skyblue')\n",
    "        plt.xticks(rotation=45, ha='right')\n",
    "\n",
    "        ax2 = ax1.twinx()\n",
    "        sns.lineplot(x=group_field, y='mean', data=agg, sort=False, marker='o', color='red', ax=ax2)\n",
    "        ax2.set_ylabel(f'Mean {y}', color='red')\n",
    "        ax2.tick_params(axis='y', labelcolor='red')\n",
    "\n",
    "        plt.title(f'{y} count and mean per {group_field}')\n",
    "        fig.tight_layout()\n",
    "        plt.show()\n",
    "\n",
    "    return summary_table\n"
   ]
  },
  {
   "cell_type": "markdown",
   "id": "ab8fc4de-6aa4-487e-8a96-12e9b6b91971",
   "metadata": {},
   "source": [
    "### 23. Number_of_Vehicles vs Number_of_Casualties."
   ]
  },
  {
   "cell_type": "markdown",
   "id": "59ece777-7666-406d-bf77-0e70455a9f6d",
   "metadata": {},
   "source": [
    "<div style=\"border: 2px solid #007acc; padding: 2px; border-radius: 10px; background-color: #f0f8ff; text-align: left;width: 47%;\"> </div>"
   ]
  },
  {
   "cell_type": "code",
   "execution_count": null,
   "id": "f061f7e9-a34a-4375-9963-057322f6bce1",
   "metadata": {},
   "outputs": [],
   "source": [
    "#Number_of_Vehicles vs Number_of_Casualties\n",
    "summary = plot_scatter_with_summary(df, 'Number_of_Vehicles', 'Number_of_Casualties', bin_x=True, bins=10, hue='Road_Surface_Conditions' )\n",
    "summary"
   ]
  },
  {
   "cell_type": "markdown",
   "id": "093bd7c8-293f-4887-bfc4-b1661af517e5",
   "metadata": {},
   "source": [
    "##### 🔑 Summary:\n",
    "\n",
    "Frequency decreases as the number of vehicles increases.\n",
    "\n",
    "Severity (mean casualties) increases with the number of vehicles.\n",
    "\n",
    "Most accidents are minor, but high-vehicle accidents, though rare, can be very severe."
   ]
  },
  {
   "cell_type": "markdown",
   "id": "9d7c38d4-6b7a-4f95-afa4-a82c6b710c11",
   "metadata": {},
   "source": [
    "### 24. Speed_limit vs Number_of_Vehicles."
   ]
  },
  {
   "cell_type": "markdown",
   "id": "ec5daa39-fc83-49c0-af5e-5458f1bfab0c",
   "metadata": {},
   "source": [
    "<div style=\"border: 2px solid #007acc; padding: 2px; border-radius: 10px; background-color: #f0f8ff; text-align: left;width: 37%;\"> </div>"
   ]
  },
  {
   "cell_type": "code",
   "execution_count": null,
   "id": "c0c8b3ca-ba1f-470c-8271-ac84e7147f1d",
   "metadata": {},
   "outputs": [],
   "source": [
    "# Speed_limit vs Number_of_Vehicles\n",
    "#plot_scatter(df, 'Speed_limit', 'Number_of_Vehicles')\n",
    "# Road_Type\n",
    "# Road_Surface_Conditions\n",
    "# Weather_Conditions\n",
    "#Number_of_Vehicles vs Number_of_Casualties\n",
    "\n",
    "summary = plot_scatter_with_summary(df, 'Speed_limit', 'Number_of_Vehicles', bin_x=True, bins=10, hue='Weather_Conditions')\n",
    "summary"
   ]
  },
  {
   "cell_type": "markdown",
   "id": "e8416ae8-f828-4196-9598-6680936f3fd9",
   "metadata": {},
   "source": [
    "##### 💡 Insight: \n",
    "Weather alone is not the main factor; traffic density and human behavior likely play a bigger role in accident counts and casualties."
   ]
  },
  {
   "cell_type": "markdown",
   "id": "19e8ed2a-7bb5-49f0-8ded-e1403fce7da5",
   "metadata": {},
   "source": [
    "### 25. Speed_limit vs Number_of_Casualties."
   ]
  },
  {
   "cell_type": "markdown",
   "id": "a8ba7676-a0c4-44d7-a011-2472a86bb627",
   "metadata": {},
   "source": [
    "<div style=\"border: 2px solid #007acc; padding: 2px; border-radius: 10px; background-color: #f0f8ff; text-align: left;width: 39%;\"> </div>"
   ]
  },
  {
   "cell_type": "code",
   "execution_count": null,
   "id": "70419538-dd96-4593-a64e-4b2c777d9cd0",
   "metadata": {},
   "outputs": [],
   "source": [
    "#plot_scatter(df, 'Speed_limit', 'Number_of_Casualties')\n",
    "\n",
    "summary = plot_scatter_with_summary(df, 'Speed_limit', 'Number_of_Casualties', bin_x=True, bins=10, hue='Road_Type')\n",
    "summary"
   ]
  },
  {
   "cell_type": "markdown",
   "id": "42001e7c-8d45-40ce-a25d-df972a56a227",
   "metadata": {},
   "source": [
    "✅ Overall Insight:\n",
    "\n",
    "Most accidents happen on single carriageways (high exposure), but dual carriageways have higher casualty severity per crash.\n",
    "\n",
    "Roundabouts and one-way streets are comparatively safer.\n",
    "\n",
    "Road safety strategies should target single and dual carriageways with stricter traffic management, speed control, and visibility improvements."
   ]
  },
  {
   "cell_type": "markdown",
   "id": "cbbdd606-9a33-4f54-927e-c1b63ea1fde8",
   "metadata": {},
   "source": [
    "### 26. Correlation Heatmap."
   ]
  },
  {
   "cell_type": "markdown",
   "id": "17c9cb7e-e0ac-4865-ba98-224dbcf9a851",
   "metadata": {},
   "source": [
    "<div style=\"border: 2px solid #007acc; padding: 2px; border-radius: 10px; background-color: #f0f8ff; text-align: left;width: 23%;\"> </div>"
   ]
  },
  {
   "cell_type": "code",
   "execution_count": null,
   "id": "bc798c95-00d7-440b-bbc3-7fade4d32c01",
   "metadata": {},
   "outputs": [],
   "source": [
    "numeric_cols = ['Number_of_Vehicles', 'Number_of_Casualties', 'Speed_limit']\n",
    "plt.figure(figsize=(6,5))\n",
    "sns.heatmap(df[numeric_cols].corr(), annot=True, cmap='coolwarm', fmt=\".2f\")\n",
    "plt.title(\"Correlation Heatmap\")\n",
    "plt.show()\n"
   ]
  },
  {
   "cell_type": "markdown",
   "id": "93f29279-e73d-4cd0-91e0-45e87b56a722",
   "metadata": {},
   "source": [
    "##### 📌 Key Insights\n",
    "\n",
    "Casualties are not strongly explained by vehicle count or speed limit alone.\n",
    "→ Other variables like weather, light conditions, road type, junction details, vehicle type likely explain accident severity better.\n",
    "\n",
    "Weak correlations suggest complex interactions.\n",
    "→ For example, a 1-vehicle accident (like a bus crash) can cause more casualties than a 3-vehicle crash.\n",
    "\n",
    "Speed alone is not the strongest predictor.\n",
    "→ Urban low-speed roads may have high casualty counts due to pedestrian involvement, while high-speed highways often have fewer casualties but more severe outcomes."
   ]
  },
  {
   "cell_type": "code",
   "execution_count": null,
   "id": "6048e7c7-473d-491d-9ddc-6d4d77d30742",
   "metadata": {},
   "outputs": [],
   "source": [
    "sns.lmplot(x='Number_of_Vehicles', y='Number_of_Casualties', data=df, height=5, aspect=1.5)"
   ]
  },
  {
   "cell_type": "markdown",
   "id": "28b14b00-7374-4de5-87a3-46f8198399d8",
   "metadata": {},
   "source": [
    "##### This is a Seaborn lmplot of Number_of_Vehicles vs Number_of_Casualties.\n",
    "Casualties do not scale linearly with vehicles: 1-vehicle accidents (like a car hitting pedestrians) can cause just as many — or more — casualties than multi-vehicle pileups."
   ]
  },
  {
   "cell_type": "markdown",
   "id": "8d9c926e-0622-4133-ac6f-2b6461ff3410",
   "metadata": {},
   "source": [
    "<div style=\"border: 2px solid #007acc; padding: 2px; border-radius: 10px; background-color: #007acc; text-align: left;width: 99%;\"> </div>"
   ]
  },
  {
   "cell_type": "markdown",
   "id": "f56acf69-5b95-42ee-b4da-2c70122ec721",
   "metadata": {},
   "source": [
    "# 3.5 🔗 Multivariate Analysis.¶"
   ]
  },
  {
   "cell_type": "markdown",
   "id": "89ed7195-f643-4502-9126-d48ceb9985c0",
   "metadata": {},
   "source": [
    "<div style=\"border: 2px solid #007acc; padding: 2px; border-radius: 10px; background-color: #007acc; text-align: left;width: 40%;\"> </div>"
   ]
  },
  {
   "cell_type": "markdown",
   "id": "bde8fc33-9aca-4941-a234-d72788015d4e",
   "metadata": {},
   "source": [
    "### 1. Pairwise Relationships: Casualties, Vehicles, Speed & Severity."
   ]
  },
  {
   "cell_type": "markdown",
   "id": "605ab3b2-2468-4805-b739-835e1ead7f5d",
   "metadata": {},
   "source": [
    "<div style=\"border: 2px solid #007acc; padding: 2px; border-radius: 10px; background-color: #f0f8ff; text-align: left;width: 59%;\"> </div>"
   ]
  },
  {
   "cell_type": "markdown",
   "id": "baaf2710-79b9-486b-8bd8-8f6cf1209fd1",
   "metadata": {},
   "source": [
    "#### Graph: Pair Plot\n",
    "\n",
    "This visualization displays scatter plots and KDE distributions for multiple numeric variables, including Number_of_Casualties, Number_of_Vehicles, Speed_limit, and Accident_Severity.\n",
    "Data points are color-coded by Accident_Severity to reveal severity-specific patterns.\n",
    "The diagonal shows the distribution of each variable, while the off-diagonals reveal relationships and clustering patterns across variables.\n",
    "\n",
    "#### ⚡Focus:\n",
    "Explore interrelationships among accident severity, casualties, vehicles involved, and speed limits to identify potential trends or risk factors."
   ]
  },
  {
   "cell_type": "code",
   "execution_count": null,
   "id": "86f9fbd7-1978-45b3-8d39-574d8fd88580",
   "metadata": {},
   "outputs": [],
   "source": [
    "# Pairplot with better styling\n",
    "sns.pairplot(\n",
    "    df[[\"Number_of_Casualties\", \"Number_of_Vehicles\", \"Speed_limit\", \"Accident_Severity\"]],\n",
    "    hue=\"Accident_Severity\",\n",
    "    diag_kind=\"kde\",\n",
    "    height=2.5,\n",
    "    palette=\"Set2\"\n",
    ")\n",
    "\n",
    "plt.suptitle(\"Pairwise Relationships: Casualties, Vehicles, Speed & Severity\", y=1.02)\n",
    "plt.show()\n"
   ]
  },
  {
   "cell_type": "markdown",
   "id": "60933c63-43f4-44de-b5e8-4255740a5746",
   "metadata": {},
   "source": [
    "#### 🔍 Insight: \n",
    "Higher accident severity often corresponds to a larger number of casualties, while speed limits and vehicle counts show moderate correlation patterns. Severe accidents tend to cluster in areas with both higher casualties and vehicle counts."
   ]
  },
  {
   "cell_type": "markdown",
   "id": "bf69c1c0-c99e-422a-9f3a-8774bce86929",
   "metadata": {},
   "source": [
    "<div style=\"border: 2px solid #007acc; padding: 2px; border-radius: 10px; background-color: #f0f8ff; text-align: left;width: 99%;\"> </div>"
   ]
  },
  {
   "cell_type": "markdown",
   "id": "2376a0ce-9691-4377-94de-3a3a372d6df0",
   "metadata": {},
   "source": [
    "### 2. Correlation Heatmap of Numeric Features."
   ]
  },
  {
   "cell_type": "markdown",
   "id": "7a6bfc2f-2490-4b11-bdcf-c90c158d24cd",
   "metadata": {},
   "source": [
    "<div style=\"border: 2px solid #007acc; padding: 2px; border-radius: 10px; background-color: #f0f8ff; text-align: left;width: 43%;\"> </div>"
   ]
  },
  {
   "cell_type": "markdown",
   "id": "69c418a5-cd30-4953-b86a-d4ed95026c8c",
   "metadata": {},
   "source": [
    "#### Graph: Heatmap\n",
    "This visualization displays the correlation matrix for numeric variables, excluding Year, Month, and Hour. Each cell shows the Pearson correlation coefficient between two variables, with color intensity indicating the strength and direction of the relationship. Strong positive correlations appear in warm colors, while strong negative correlations appear in cool colors, helping identify dependent or independent features.\n",
    "\n",
    "#### ⚡Focus:\n",
    "Examine relationships between numeric variables in the dataset while ignoring time-related columns (Year, Month, Hour)."
   ]
  },
  {
   "cell_type": "code",
   "execution_count": null,
   "id": "0e445870-c3a0-4fe3-99d5-fd0e59cacb4d",
   "metadata": {},
   "outputs": [],
   "source": [
    "# Select only numeric columns, excluding Year, Month, Hour\n",
    "numeric_df = df.select_dtypes(include=['int64', 'float64']).drop(columns=['Year','Month','Hour'], errors='ignore')\n",
    "\n",
    "plt.figure(figsize=(10,6))\n",
    "sns.heatmap(numeric_df.corr(), annot=True, cmap=\"coolwarm\", fmt=\".2f\")\n",
    "plt.title(\"Correlation Heatmap of Numeric Features\", fontsize=16)\n",
    "plt.show()\n"
   ]
  },
  {
   "cell_type": "markdown",
   "id": "fd8bc3c3-c758-4437-bd2a-93e68c04addf",
   "metadata": {},
   "source": [
    "#### 🔍 Insight:\n",
    "The heatmap shows that Number_of_Vehicles and Number_of_Casualties are strongly positively correlated, indicating that accidents involving more vehicles tend to result in higher casualties. Speed_limit shows weaker correlations with other variables, suggesting it is more independent. Accident_Severity has moderate correlations with casualties and vehicles, highlighting its connection to accident impact."
   ]
  },
  {
   "cell_type": "markdown",
   "id": "80529836-de85-4e36-a6ef-e33dc8f915c0",
   "metadata": {},
   "source": [
    "<div style=\"border: 2px solid #007acc; padding: 2px; border-radius: 10px; background-color: #f0f8ff; text-align: left;width: 99%;\"> </div>"
   ]
  },
  {
   "cell_type": "markdown",
   "id": "833d2882-eb1c-427e-a7f8-a0eb66d31d11",
   "metadata": {},
   "source": [
    "### 3. FacetGrid Scatter Plot – Vehicle vs Casualties Analysis."
   ]
  },
  {
   "cell_type": "markdown",
   "id": "9dffe0da-4131-4874-b3b0-bf1affb4ac9d",
   "metadata": {},
   "source": [
    "<div style=\"border: 2px solid #007acc; padding: 2px; border-radius: 10px; background-color: #f0f8ff; text-align: left;width: 53%;\"> </div>"
   ]
  },
  {
   "cell_type": "markdown",
   "id": "1694ab5a-6ff9-4537-a065-f89d1e5e6632",
   "metadata": {},
   "source": [
    "#### Graph: FacetGrid Scatter Plot\n",
    "\n",
    "This visualization displays scatter plots of Number_of_Vehicles vs Number_of_Casualties for each Light_Condition, with points color-coded by Weather_Conditions. Multiple subplots reveal how accident patterns vary under different lighting conditions, while the color indicates the influence of weather.\n",
    "\n",
    "#### ⚡Focus:\n",
    "Examine how the number of vehicles and casualties relate across different light and weather conditions, highlighting patterns specific to each scenario."
   ]
  },
  {
   "cell_type": "code",
   "execution_count": null,
   "id": "170d2074-119f-4b3d-98ef-e56cbbd43b56",
   "metadata": {},
   "outputs": [],
   "source": [
    "# FacetGrid Scatter Plot: Number of Vehicles vs Number of Casualties by Light and Weather Conditions\n",
    "g = sns.FacetGrid(df, \n",
    "                  col=\"Light_Conditions\", \n",
    "                  hue=\"Weather_Conditions\", \n",
    "                  col_wrap=3, \n",
    "                  height=4, \n",
    "                  sharex=True, \n",
    "                  sharey=True)\n",
    "\n",
    "# Plot scatter points\n",
    "g.map(sns.scatterplot, \"Number_of_Vehicles\", \"Number_of_Casualties\", alpha=0.6)\n",
    "\n",
    "# Add legend and titles\n",
    "g.add_legend(title=\"Weather Conditions\")\n",
    "g.set_axis_labels(\"Number of Vehicles\", \"Number of Casualties\")\n",
    "g.set_titles(col_template=\"{col_name}\")  # Show Light Condition as subplot title\n",
    "plt.subplots_adjust(top=0.9)\n",
    "g.fig.suptitle(\"Accidents: Vehicles vs Casualties by Light and Weather Conditions\", fontsize=16)\n",
    "\n",
    "plt.subplots_adjust(top=0.88)  # adjust to make space for subtitle\n",
    "g.fig.text(0.5, 0.92, \"Accident patterns across different Light and Weather Conditions\", ha='center', fontsize=12)\n",
    "\n",
    "plt.show()\n"
   ]
  },
  {
   "cell_type": "markdown",
   "id": "a218ed83-0565-4dce-a9da-6558643c0726",
   "metadata": {},
   "source": [
    "#### 💡Insight:\n",
    "Higher numbers of vehicles generally correlate with more casualties, especially under poor lighting conditions such as darkness or low visibility. Certain weather conditions, like rain or fog, amplify this effect, showing clusters with higher casualty counts."
   ]
  },
  {
   "cell_type": "markdown",
   "id": "7b7da563-a177-4bc1-b9a5-4a6c037a246d",
   "metadata": {},
   "source": [
    "<div style=\"border: 2px solid #007acc; padding: 2px; border-radius: 10px; background-color: #f0f8ff; text-align: left;width: 99%;\"> </div>"
   ]
  },
  {
   "cell_type": "markdown",
   "id": "d4b09d3f-1512-49e8-96b2-581dc9b10400",
   "metadata": {},
   "source": [
    "### 4. Casualty Analysis by Light Conditions and Accident Severity."
   ]
  },
  {
   "cell_type": "markdown",
   "id": "a54dd4e9-dd2d-44c0-9872-6d7231fe3c07",
   "metadata": {},
   "source": [
    "<div style=\"border: 2px solid #007acc; padding: 2px; border-radius: 10px; background-color: #f0f8ff; text-align: left;width: 60%;\"> </div>"
   ]
  },
  {
   "cell_type": "markdown",
   "id": "5e391a6d-3917-4223-b999-5a9bc97c2e95",
   "metadata": {},
   "source": [
    "#### Graph: Boxplot – Casualties by Light & Severity\n",
    "\n",
    "This visualization shows the distribution of Number_of_Casualties across different Light_Conditions, with Accident_Severity indicated by color. Each box represents the spread of casualties for a specific light condition and severity, highlighting medians, quartiles, and outliers.\n",
    "\n",
    "#### ⚡Focus:\n",
    "\n",
    "Compare how accident severity affects casualty counts under different lighting conditions, emphasizing patterns in low-light or adverse situations."
   ]
  },
  {
   "cell_type": "code",
   "execution_count": null,
   "id": "b9775d83-a874-42a8-8baa-a16a7c892a88",
   "metadata": {},
   "outputs": [],
   "source": [
    "# Accident_Severity (cat) × Light_Conditions (cat) × Number_of_Casualties (num).\n",
    "# Main Heading: Casualty Analysis by Light Conditions and Accident Severity\n",
    "\n",
    "plt.figure(figsize=(12,6))\n",
    "sns.boxplot(\n",
    "    data=df,\n",
    "    x=\"Light_Conditions\",          # categorical (x-axis)\n",
    "    y=\"Number_of_Casualties\",      # numeric (y-axis)\n",
    "    hue=\"Accident_Severity\"        # second categorical (color/hue)\n",
    ")\n",
    "\n",
    "# Titles and labels for clarity\n",
    "plt.xticks(rotation=45)\n",
    "plt.xlabel(\"Light Conditions\")\n",
    "plt.ylabel(\"Number of Casualties\")\n",
    "plt.title(\"Casualties by Light Conditions & Accident Severity\", fontsize=16)\n",
    "plt.legend(title=\"Accident Severity\")\n",
    "plt.tight_layout()\n",
    "plt.show()"
   ]
  },
  {
   "cell_type": "markdown",
   "id": "249265f4-f388-47ea-964c-27d654ed56e9",
   "metadata": {},
   "source": [
    "#### 💡Insight:\n",
    "\n",
    "Severe accidents tend to result in higher casualties, especially in poor lighting conditions like darkness or dusk. Minor accidents usually cluster near lower casualty counts, while outliers indicate rare but extreme casualty events. This helps identify high-risk light conditions for targeted safety measures."
   ]
  },
  {
   "cell_type": "markdown",
   "id": "dcfdc6af-27e1-42d5-a520-0f9a00854b6f",
   "metadata": {},
   "source": [
    "<div style=\"border: 2px solid #007acc; padding: 2px; border-radius: 10px; background-color: #f0f8ff; text-align: left;width: 99%;\"> </div>"
   ]
  },
  {
   "cell_type": "markdown",
   "id": "f67e029b-4522-4392-a7e5-bf9513fa1f59",
   "metadata": {},
   "source": [
    "### 5. Casualty Analysis by Road Type and Accident Severity."
   ]
  },
  {
   "cell_type": "markdown",
   "id": "5e6b35c2-f989-460c-9083-a15acd503ebe",
   "metadata": {},
   "source": [
    "<div style=\"border: 2px solid #007acc; padding: 2px; border-radius: 10px; background-color: #f0f8ff; text-align: left;width: 54%;\"> </div>"
   ]
  },
  {
   "cell_type": "markdown",
   "id": "744f1304-4f1a-4d36-9096-a2e776c1d490",
   "metadata": {},
   "source": [
    "#### Graph: Boxplot – Casualties by Road Type & Severity\n",
    "\n",
    "This visualization shows the distribution of Number_of_Casualties across different Road_Type categories, with Accident_Severity indicated by color. Each box represents the spread of casualties for a specific road type and severity, highlighting medians, quartiles, and outliers.\n",
    "\n",
    "#### ⚡Focus:\n",
    "\n",
    "Compare how accident severity affects casualty counts across different types of roads, highlighting high-risk road types."
   ]
  },
  {
   "cell_type": "code",
   "execution_count": null,
   "id": "7a050377-e716-49e9-8280-03d51da1bd36",
   "metadata": {},
   "outputs": [],
   "source": [
    "# Accident Severity × Road Type × Number of Casualties\n",
    "# Main Heading: Casualty Analysis by Road Type and Accident Severity\n",
    "\n",
    "plt.figure(figsize=(12,6))\n",
    "sns.boxplot(\n",
    "    data=df,\n",
    "    x=\"Road_Type\",                # categorical (x-axis)\n",
    "    y=\"Number_of_Casualties\",     # numeric (y-axis)\n",
    "    hue=\"Accident_Severity\"       # second categorical (color/hue)\n",
    ")\n",
    "\n",
    "# Titles and labels for clarity\n",
    "plt.xticks(rotation=45)\n",
    "plt.xlabel(\"Road Type\")\n",
    "plt.ylabel(\"Number of Casualties\")\n",
    "plt.title(\"Casualties by Road Type & Accident Severity\", fontsize=16)\n",
    "plt.legend(title=\"Accident Severity\")\n",
    "plt.tight_layout()\n",
    "plt.show()\n"
   ]
  },
  {
   "cell_type": "markdown",
   "id": "4985022b-4c88-404f-b1de-104a69d79ddb",
   "metadata": {},
   "source": [
    "#### 💡Insight:\n",
    "\n",
    "Severe accidents on highways and major roads tend to result in higher casualties, while minor roads generally show lower casualty counts. Outliers indicate rare events with unusually high casualties, emphasizing the importance of safety measures on high-speed or heavily trafficked roads."
   ]
  },
  {
   "cell_type": "markdown",
   "id": "16f42160-954b-4352-8167-63734612c85b",
   "metadata": {},
   "source": [
    "<div style=\"border: 2px solid #007acc; padding: 2px; border-radius: 10px; background-color: #f0f8ff; text-align: left;width: 99%;\"> </div>"
   ]
  },
  {
   "cell_type": "markdown",
   "id": "147950aa-f086-4c13-9722-d3c95c023304",
   "metadata": {},
   "source": [
    "### 6. Accident Severity by Area Type and Weather Conditions."
   ]
  },
  {
   "cell_type": "markdown",
   "id": "2ef3bfe8-d766-4980-8b57-1081ff9a0086",
   "metadata": {},
   "source": [
    "<div style=\"border: 2px solid #007acc; padding: 2px; border-radius: 10px; background-color: #f0f8ff; text-align: left;width: 55%;\"> </div>"
   ]
  },
  {
   "cell_type": "markdown",
   "id": "342f9cd4-941a-4793-ab63-737e69c27190",
   "metadata": {},
   "source": [
    "#### Graph: FacetGrid – Urban/Rural × Weather × Accident Severity\n",
    "\n",
    "This visualization displays the count of accidents for each Accident_Severity across Urban and Rural areas, with Weather_Conditions indicated by color. Each subplot represents an area type, making it easier to compare patterns without clutter.\n",
    "\n",
    "#### ⚡Focus:\n",
    "Analyze how accident severity is influenced by the combination of area type and weather conditions, highlighting high-risk scenarios across all weather conditions."
   ]
  },
  {
   "cell_type": "code",
   "execution_count": null,
   "id": "570a692f-68ff-4c60-a74d-2d9c6c69593d",
   "metadata": {},
   "outputs": [],
   "source": [
    "# FacetGrid: separate plots for Urban and Rural areas\n",
    "g = sns.catplot(\n",
    "    data=df,\n",
    "    kind=\"count\",\n",
    "    x=\"Accident_Severity\",\n",
    "    hue=\"Weather_Conditions\",\n",
    "    col=\"Urban_or_Rural_Area\",\n",
    "    height=5,\n",
    "    aspect=1\n",
    ")\n",
    "\n",
    "# Titles and labels\n",
    "g.fig.suptitle(\"Accident Severity by Area Type and Weather Conditions\", fontsize=16)\n",
    "g.set_axis_labels(\"Accident Severity\", \"Count\")\n",
    "g.set_titles(\"{col_name} Area\")\n",
    "g._legend.set_title(\"Weather Conditions\")\n",
    "\n",
    "plt.tight_layout()\n",
    "plt.show()\n"
   ]
  },
  {
   "cell_type": "markdown",
   "id": "6c355e6f-8ae6-45b2-b765-1cd30081b731",
   "metadata": {},
   "source": [
    "#### 💡Insight:\n",
    "\n",
    "Rural areas generally have higher counts of severe and fatal accidents under adverse weather, while urban areas mostly show minor accidents. This multi-dimensional view highlights the need for safety measures targeting specific weather and area conditions."
   ]
  },
  {
   "cell_type": "markdown",
   "id": "1b3c2170-398d-4485-8c93-2e4bc4c73efb",
   "metadata": {},
   "source": [
    "<div style=\"border: 2px solid #007acc; padding: 2px; border-radius: 10px; background-color: #f0f8ff; text-align: left;width: 99%;\"> </div>"
   ]
  },
  {
   "cell_type": "markdown",
   "id": "9f8359b9-85ab-4916-8643-fd4bb5d4b4ae",
   "metadata": {},
   "source": [
    "### 7. Extended Correlation Analysis – Numerical & Categorical Features."
   ]
  },
  {
   "cell_type": "markdown",
   "id": "3d78c694-136e-41c5-998f-5ce0ac578584",
   "metadata": {},
   "source": [
    "<div style=\"border: 2px solid #007acc; padding: 2px; border-radius: 10px; background-color: #f0f8ff; text-align: left;width: 65%;\"> </div>"
   ]
  },
  {
   "cell_type": "markdown",
   "id": "7c2c1ffc-388a-4595-bc3b-c140efe9155a",
   "metadata": {},
   "source": [
    "#### Graph: Heatmap – Numerical + Encoded Categorical Features\n",
    "\n",
    "This visualization displays the correlation matrix between numeric variables (Number_of_Vehicles, Number_of_Casualties, Speed_limit) and encoded categorical features. Each cell shows the Pearson correlation coefficient, with color intensity indicating the strength and direction of relationships. Warm colors represent strong positive correlations, while cool colors represent strong negative correlations.\n",
    "\n",
    "#### ⚡Focus:\n",
    "\n",
    "Identify and emphasize strong linear relationships between numeric features and encoded categorical variables. This helps quickly spot which factors most influence accident severity and casualty counts, while weak correlations are de-emphasized for clarity."
   ]
  },
  {
   "cell_type": "code",
   "execution_count": null,
   "id": "5cfd1e20-ed29-4bc3-a04c-ed15f9fdd950",
   "metadata": {},
   "outputs": [],
   "source": [
    "# Encode categorical variables using LabelEncoder and compute correlations \n",
    "# between numerical features (Number_of_Vehicles, Number_of_Casualties, Speed_limit) \n",
    "# and encoded categorical features. Finally, visualize the correlation matrix \n",
    "# as a heatmap to explore potential linear relationships.\n",
    "\n",
    "from sklearn.preprocessing import LabelEncoder\n",
    "\n",
    "# Copy dataframe to avoid overwriting original\n",
    "df_encoded = df.copy()\n",
    "\n",
    "# Categorical columns to encode\n",
    "categorical_cols = [\n",
    "    'Accident_Severity', 'Road_Type', 'Weather_Conditions',\n",
    "    'Light_Conditions', 'Urban_or_Rural_Area',\n",
    "    'Junction_Control', 'Junction_Detail',\n",
    "    'Road_Surface_Conditions', 'Carriageway_Hazards',\n",
    "    'Vehicle_Type', 'Local_Authority_District'\n",
    "]\n",
    "\n",
    "# Encode categorical columns\n",
    "le = LabelEncoder()\n",
    "for col in categorical_cols:\n",
    "    if col in df_encoded.columns:\n",
    "        df_encoded[col] = le.fit_transform(df_encoded[col].astype(str))\n",
    "\n",
    "# Select numeric + encoded columns\n",
    "selected_cols = ['Number_of_Vehicles', 'Number_of_Casualties', 'Speed_limit'] + categorical_cols\n",
    "corr = df_encoded[selected_cols].corr()\n",
    "\n",
    "# Highlight strong correlations\n",
    "strong_corr = corr.copy()\n",
    "strong_corr[np.abs(strong_corr) < 0.5] = 0  # set weak correlations to 0 for emphasis\n",
    "\n",
    "# Plot heatmap\n",
    "plt.figure(figsize=(14,10))\n",
    "sns.heatmap(\n",
    "    corr, \n",
    "    annot=True, \n",
    "    fmt=\".2f\", \n",
    "    cmap=\"coolwarm\", \n",
    "    center=0,\n",
    "    cbar_kws={'label': 'Correlation Coefficient'},\n",
    "    linewidths=0.5\n",
    ")\n",
    "\n",
    "# Overlay strong correlations with a bold border\n",
    "for i in range(len(corr)):\n",
    "    for j in range(len(corr)):\n",
    "        if abs(corr.iloc[i, j]) >= 0.5:\n",
    "            plt.gca().add_patch(plt.Rectangle((j,i),1,1, fill=False, edgecolor='black', lw=2))\n",
    "\n",
    "# Titles and labels\n",
    "plt.title(\"Extended Correlation Heatmap (Numerical + Encoded Categorical Features & Strong Correlations Highlighted)\", fontsize=18)\n",
    "plt.xticks(rotation=45, ha='right')\n",
    "plt.yticks(rotation=0)\n",
    "plt.tight_layout()\n",
    "plt.show()\n"
   ]
  },
  {
   "cell_type": "markdown",
   "id": "4cf94af4-1baa-4a2e-b578-fb009b9a64cb",
   "metadata": {},
   "source": [
    "#### 💡Insight:\n",
    "\n",
    "Number_of_Vehicles and Number_of_Casualties have a strong positive correlation, confirming that accidents involving more vehicles tend to result in higher casualties.\n",
    "\n",
    "Accident_Severity shows moderate to strong positive correlations with Number_of_Casualties and certain features like Light_Conditions and Road_Type, indicating that severe accidents are associated with specific road and lighting conditions.\n",
    "\n",
    "Vehicle_Type and Carriageway_Hazards show strong correlations with other variables, suggesting their influence on accident outcomes.\n",
    "\n",
    "Many encoded categorical variables exhibit weak correlations (<0.5) with numeric features, indicating independence or minimal linear relationship.\n",
    "\n",
    "This heatmap allows quick identification of key features for predictive modeling, focusing on those with strong correlations to casualties and severity."
   ]
  },
  {
   "cell_type": "markdown",
   "id": "efed0970-8f44-4433-a253-026533448314",
   "metadata": {},
   "source": [
    "<div style=\"border: 2px solid #007acc; padding: 2px; border-radius: 10px; background-color: #f0f8ff; text-align: left;width: 99%;\"> </div>"
   ]
  },
  {
   "cell_type": "markdown",
   "id": "aca07eef-4036-4b4a-a7c6-0538bfdcabce",
   "metadata": {},
   "source": [
    "### 8. Feature Correlation with Number of Casualties."
   ]
  },
  {
   "cell_type": "markdown",
   "id": "f07bc332-9a0a-4a9e-b65f-3e98d23b765a",
   "metadata": {},
   "source": [
    "<div style=\"border: 2px solid #007acc; padding: 2px; border-radius: 10px; background-color: #f0f8ff; text-align: left;width: 47%;\"> </div>"
   ]
  },
  {
   "cell_type": "markdown",
   "id": "b5da4ce2-2158-4f2c-973b-4faaa59ffab5",
   "metadata": {},
   "source": [
    "#### Graph: Bar Plot – Feature Correlation\n",
    "\n",
    "This visualization shows the Pearson correlation of all numeric and encoded categorical features with Number_of_Casualties. Features are sorted by correlation strength, with warm colors indicating strong positive correlations and cool colors indicating weaker or negative correlations.\n",
    "\n",
    "#### ⚡Focus:\n",
    "\n",
    "Quickly identify the features most strongly associated with the number of casualties, emphasizing those with significant linear relationships.\n",
    "\n",
    "This complements the Insight section and aligns with the visual emphasis on strong correlations."
   ]
  },
  {
   "cell_type": "code",
   "execution_count": null,
   "id": "b83adec9-f1c0-493c-86f8-015d55ebe525",
   "metadata": {},
   "outputs": [],
   "source": [
    "plt.figure(figsize=(8,6))\n",
    "\n",
    "# Correlation of all features with Number_of_Casualties\n",
    "casualty_corr = corr['Number_of_Casualties'].sort_values(ascending=False)\n",
    "\n",
    "# Create color array: strong correlations (>=0.5) in dark red, others in light gray\n",
    "colors = ['firebrick' if abs(x) >= 0.5 else 'lightgray' for x in casualty_corr.values]\n",
    "\n",
    "# Barplot\n",
    "sns.barplot(\n",
    "    x=casualty_corr.values,\n",
    "    y=casualty_corr.index,\n",
    "    hue=casualty_corr.index,\n",
    "    palette=colors, #\"coolwarm\",\n",
    "    dodge=False,\n",
    "    legend=False               # hide duplicate legend\n",
    ")\n",
    "plt.title(\"Correlation of Features with Number of Casualties\", fontsize=16)\n",
    "plt.xlabel(\"Correlation with Number of Casualties\")\n",
    "plt.ylabel(\"Features\")\n",
    "plt.xticks(rotation=45)\n",
    "plt.tight_layout()\n",
    "plt.show()\n"
   ]
  },
  {
   "cell_type": "markdown",
   "id": "03dd41b1-07b9-40e5-b94d-8bc479f022cc",
   "metadata": {},
   "source": [
    "#### 💡Insight:\n",
    "\n",
    "Number_of_Vehicles shows the strongest positive correlation with casualties, emphasizing that accidents involving more vehicles tend to result in higher casualty counts.\n",
    "\n",
    "Accident_Severity and Light_Conditions have moderate positive correlations, highlighting their influence on accident outcomes.\n",
    "\n",
    "Other features, including most encoded categorical variables, show weak correlations (<0.5), indicating they have minimal linear relationship with casualty counts.\n",
    "\n",
    "Highlighting strong correlations visually allows quick identification of key factors to prioritize for modeling, safety analysis, or targeted interventions."
   ]
  },
  {
   "cell_type": "markdown",
   "id": "c065a1fe-070b-4907-9305-9cc14c839bcd",
   "metadata": {},
   "source": [
    "<div style=\"border: 2px solid #007acc; padding: 2px; border-radius: 10px; background-color: #f0f8ff; text-align: left;width: 99%;\"> </div>"
   ]
  },
  {
   "cell_type": "markdown",
   "id": "01793239-3347-4a6c-b161-58ead465a1d5",
   "metadata": {},
   "source": [
    "### 9. Feature Correlation with Number of Casualties (One-Hot Encoded)."
   ]
  },
  {
   "cell_type": "markdown",
   "id": "164f6050-f2e5-44f8-bbf1-74be7a9b3774",
   "metadata": {},
   "source": [
    "<div style=\"border: 2px solid #007acc; padding: 2px; border-radius: 10px; background-color: #f0f8ff; text-align: left;width: 65%;\"> </div>"
   ]
  },
  {
   "cell_type": "markdown",
   "id": "c12087b7-66b0-49df-bf91-921881832543",
   "metadata": {},
   "source": [
    "#### Graph: Bar Plot – Correlation of All Features\n",
    "\n",
    "This visualization shows the correlation of numeric and one-hot encoded categorical features with Number_of_Casualties, sorted by strength. The color intensity indicates the magnitude and direction of the correlation.\n",
    "\n",
    "#### ⚡Focus:\n",
    "\n",
    "Examine which one-hot encoded features (e.g., specific road types, light conditions, or junction controls) are most associated with casualty counts to identify important factors influencing accidents."
   ]
  },
  {
   "cell_type": "code",
   "execution_count": null,
   "id": "4af966d9-08b7-450e-b8dd-9bf515e71c79",
   "metadata": {},
   "outputs": [],
   "source": [
    "# One-hot encode selected categorical columns\n",
    "df_encoded = pd.get_dummies(df, columns=[\"Road_Type\", \"Weather_Conditions\", \n",
    "                                         \"Light_Conditions\", \"Junction_Control\"],\n",
    "                            drop_first=True)\n",
    "\n",
    "# Compute correlation with Number_of_Casualties\n",
    "casualty_corr = df_encoded.corr(numeric_only=True)[\"Number_of_Casualties\"].sort_values(ascending=False)\n",
    "\n",
    "# Plot barplot\n",
    "plt.figure(figsize=(10,6))\n",
    "sns.barplot(x=casualty_corr.values, y=casualty_corr.index, palette=\"coolwarm\", hue=casualty_corr.index, legend=False )\n",
    "plt.title(\"Correlation of All Features with Number of Casualties (After One-Hot Encoding)\", fontsize=16)\n",
    "plt.xlabel(\"Correlation with Number of Casualties\")\n",
    "plt.ylabel(\"Features\")\n",
    "plt.xticks(rotation=45)\n",
    "plt.tight_layout()\n",
    "plt.show()"
   ]
  },
  {
   "cell_type": "markdown",
   "id": "eb237fc2-77d1-49b4-bc89-9a74ba247663",
   "metadata": {},
   "source": [
    "#### 💡Insight:\n",
    "\n",
    "Original numeric features like Number_of_Vehicles remain the strongest predictors of casualties.\n",
    "\n",
    "Certain one-hot encoded categories, such as specific Road_Type or Light_Conditions, show moderate correlations, highlighting their influence on accident severity.\n",
    "\n",
    "This detailed view helps identify specific scenarios (e.g., particular road types or junction controls) that contribute more to casualty counts, aiding targeted safety measures or predictive modeling."
   ]
  },
  {
   "cell_type": "markdown",
   "id": "3416d99e-59b5-46be-a39d-e911066ccb4c",
   "metadata": {},
   "source": [
    "<div style=\"border: 2px solid #007acc; padding: 2px; border-radius: 10px; background-color: #f0f8ff; text-align: left;width: 99%;\"> </div>"
   ]
  },
  {
   "cell_type": "markdown",
   "id": "d639ade9-8e7f-411c-a719-81faa604e1c7",
   "metadata": {},
   "source": [
    "### 10. Casualties by Severity × Junction Control × Light Conditions."
   ]
  },
  {
   "cell_type": "markdown",
   "id": "0b323925-bfe6-4901-b442-1ddcc193841e",
   "metadata": {},
   "source": [
    "<div style=\"border: 2px solid #007acc; padding: 2px; border-radius: 10px; background-color: #f0f8ff; text-align: left;width: 60%;\"> </div>"
   ]
  },
  {
   "cell_type": "markdown",
   "id": "db34debb-2014-4b91-88bf-f44c88288602",
   "metadata": {},
   "source": [
    "#### Graph: FacetGrid Boxplot – Casualties Across Junctions and Light Conditions\n",
    "\n",
    "This visualization displays the distribution of Number_of_Casualties for each Light_Conditions, with Accident_Severity indicated by color. Multiple subplots represent different Junction_Control types, allowing comparison of accident severity patterns across junction types and lighting conditions.\n",
    "\n",
    "#### ⚡Focus:\n",
    "\n",
    "Examine how accident severity and lighting conditions interact at different junction types to identify scenarios with higher casualty risks."
   ]
  },
  {
   "cell_type": "code",
   "execution_count": null,
   "id": "155191e5-fa1a-491c-b19b-9bc6b80671bc",
   "metadata": {},
   "outputs": [],
   "source": [
    "# FacetGrid Boxplot: Number of Casualties by Light Conditions, Accident Severity, and Junction Control\n",
    "\n",
    "# Increase figure size for readability\n",
    "g = sns.catplot(\n",
    "    x=\"Light_Conditions\",\n",
    "    y=\"Number_of_Casualties\",\n",
    "    hue=\"Accident_Severity\",\n",
    "    col=\"Junction_Control\",\n",
    "    data=df,\n",
    "    kind=\"box\",\n",
    "    col_wrap=3,   # makes multiple columns wrap into rows\n",
    "    height=5,     # size of each small plot\n",
    "    aspect=1.2    # width/height ratio\n",
    ")\n",
    "\n",
    "# Improve readability\n",
    "g.set_titles(\"Junction Control: {col_name}\")\n",
    "g.set_axis_labels(\"Light Conditions\", \"Number of Casualties\")\n",
    "g.set_xticklabels(rotation=45)\n",
    "plt.subplots_adjust(top=0.85)\n",
    "g.fig.suptitle(\"Casualties by Severity × Junction Control × Light Conditions\", fontsize=18)\n",
    "\n",
    "plt.show()\n"
   ]
  },
  {
   "cell_type": "markdown",
   "id": "91b7bae5-da4d-453e-9883-ce3cf0dc0643",
   "metadata": {},
   "source": [
    "#### 💡Insight:\n",
    "\n",
    "Severe accidents often result in higher casualties, particularly under poor lighting conditions.\n",
    "\n",
    "Certain junction types, such as crossroads or mini-roundabouts, show wider variability in casualties, indicating higher-risk locations.\n",
    "\n",
    "Minor accidents are generally clustered at lower casualty counts, while extreme outliers highlight rare but serious events.\n",
    "\n",
    "This multi-dimensional view helps prioritize safety interventions at specific junctions under certain light conditions."
   ]
  },
  {
   "cell_type": "markdown",
   "id": "37633b33-d1da-40e0-8b02-b94e9a873d81",
   "metadata": {},
   "source": [
    "<div style=\"border: 2px solid #007acc; padding: 2px; border-radius: 10px; background-color: #f0f8ff; text-align: left;width: 99%;\"> </div>"
   ]
  },
  {
   "cell_type": "markdown",
   "id": "aabfd680-6de7-454c-b62e-75bf914f4357",
   "metadata": {},
   "source": [
    "### 11. Casualties by Severity × Weather Conditions × Area Type."
   ]
  },
  {
   "cell_type": "markdown",
   "id": "6eabb9f3-a6d9-4034-aaf9-643acf8843db",
   "metadata": {},
   "source": [
    "<div style=\"border: 2px solid #007acc; padding: 2px; border-radius: 10px; background-color: #f0f8ff; text-align: left;width: 57%;\"> </div>"
   ]
  },
  {
   "cell_type": "markdown",
   "id": "e8c2e2d4-d8a9-4a4f-aa6a-b89dbb4d5f84",
   "metadata": {},
   "source": [
    "#### Graph: Faceted Boxplot – Casualties across Weather Conditions and Area Types\n",
    "This visualization compares the Number_of_Casualties for each Weather_Conditions category, segmented by Urban_or_Rural_Area. Accident severity levels are represented with colors to highlight patterns across environmental and geographical conditions.\n",
    "\n",
    "#### ⚡Focus:\n",
    "\n",
    "Understand how weather and urban vs. rural settings interact to influence casualty numbers across different severity levels."
   ]
  },
  {
   "cell_type": "code",
   "execution_count": null,
   "id": "1d17b188-31f2-4599-ade0-b816da1c8d15",
   "metadata": {},
   "outputs": [],
   "source": [
    "# Faceted boxplot: Casualties by Severity × Weather Conditions × Urban/Rural Area\n",
    "\n",
    "g = sns.catplot(\n",
    "    x=\"Road_Surface_Conditions\",\n",
    "    y=\"Number_of_Casualties\",\n",
    "    hue=\"Accident_Severity\",\n",
    "    col=\"Road_Type\",\n",
    "    data=df,\n",
    "    kind=\"box\",\n",
    "    col_wrap=3,     # Wrap columns into rows\n",
    "    height=5,\n",
    "    aspect=1.3\n",
    ")\n",
    "\n",
    "# Improve readability\n",
    "g.set_titles(\"Road Type: {col_name}\")\n",
    "g.set_axis_labels(\"Road Surface Conditions\", \"Number of Casualties\")\n",
    "g.set_xticklabels(rotation=45)\n",
    "plt.subplots_adjust(top=0.85)\n",
    "g.fig.suptitle(\"Casualties by Severity × Road Surface Conditions × Road Type\", fontsize=16)\n",
    "\n",
    "plt.show()\n"
   ]
  },
  {
   "cell_type": "markdown",
   "id": "4aaab50f-642c-4443-8db4-b1f121ad90d4",
   "metadata": {},
   "source": [
    "#### 💡Insight:\n",
    "\n",
    "Severe weather (e.g., rain, snow, fog) tends to correlate with higher casualties in rural areas due to poor visibility and road conditions.\n",
    "\n",
    "Urban areas often show higher accident counts but fewer casualties per accident, possibly due to lower speed limits.\n",
    "\n",
    "Rural accidents under poor weather conditions show wider variability, indicating potential for severe outcomes."
   ]
  },
  {
   "cell_type": "markdown",
   "id": "0e17de51-c629-42cb-8ea3-8919f514aa02",
   "metadata": {},
   "source": [
    "<div style=\"border: 2px solid #007acc; padding: 2px; border-radius: 10px; background-color: #f0f8ff; text-align: left;width: 99%;\"> </div>"
   ]
  },
  {
   "cell_type": "markdown",
   "id": "0fa632c3-bae1-4f1e-a0cc-22ac3c027bf5",
   "metadata": {},
   "source": [
    "### 12. Casualties by Severity × Urban/Rural Area × Weather Conditions."
   ]
  },
  {
   "cell_type": "markdown",
   "id": "6f436cb1-8e80-4ca8-a88e-0a12c415209d",
   "metadata": {},
   "source": [
    "<div style=\"border: 2px solid #007acc; padding: 2px; border-radius: 10px; background-color: #f0f8ff; text-align: left;width: 65%;\"> </div>"
   ]
  },
  {
   "cell_type": "markdown",
   "id": "b261dd0b-f907-4d05-b86a-b66842de3a6c",
   "metadata": {},
   "source": [
    "#### Graph Faceted Barplot\n",
    "\n",
    "Average casualties for each weather condition under different urban/rural areas, with severity level as the hue.\n",
    "\n",
    "#### ⚡Focus\n",
    "\n",
    "Understand how weather conditions and urban/rural location jointly affect accident severity and casualty counts."
   ]
  },
  {
   "cell_type": "code",
   "execution_count": null,
   "id": "31f1ba48-745c-4bcb-9785-98c1b6fa130b",
   "metadata": {},
   "outputs": [],
   "source": [
    "# Calculate average casualties per Weather_Conditions for sorting\n",
    "order = (\n",
    "    df.groupby(\"Weather_Conditions\")[\"Number_of_Casualties\"]\n",
    "    .mean()\n",
    "    .sort_values(ascending=False)\n",
    "    .index\n",
    ")\n",
    "\n",
    "# Faceted barplot: Casualties by Severity × Urban/Rural Area × Weather Conditions\n",
    "g = sns.catplot(\n",
    "    x=\"Weather_Conditions\",\n",
    "    y=\"Number_of_Casualties\",\n",
    "    hue=\"Accident_Severity\",\n",
    "    col=\"Urban_or_Rural_Area\",\n",
    "    data=df,\n",
    "    kind=\"bar\",\n",
    "    col_wrap=2,\n",
    "    height=5,\n",
    "    aspect=1.5,\n",
    "    order=order     # Sort by average casualties\n",
    ")\n",
    "\n",
    "# Improve readability\n",
    "g.set_titles(\"Area: {col_name}\")\n",
    "g.set_axis_labels(\"Weather Conditions\", \"Avg. Number of Casualties\")\n",
    "g.set_xticklabels(rotation=45)\n",
    "plt.subplots_adjust(top=0.85)\n",
    "g.fig.suptitle(\"Casualties by Severity × Urban/Rural Area × Weather Conditions\", fontsize=16)\n",
    "\n",
    "plt.show()\n"
   ]
  },
  {
   "cell_type": "markdown",
   "id": "ba11cec2-5f83-4453-b64f-214ccd49990a",
   "metadata": {},
   "source": [
    "#### 💡Insight\n",
    "\n",
    "Rainy and Foggy conditions show higher average casualties, especially in rural areas.\n",
    "\n",
    "Urban areas have more accidents, but rural areas see higher casualties per accident under severe weather.\n",
    "\n",
    "Clear weather has the highest frequency of accidents but often lower casualties per accident, likely due to better control and visibility."
   ]
  },
  {
   "cell_type": "markdown",
   "id": "65ebf70b-245a-4bd4-8f8b-a0b13a23ab08",
   "metadata": {},
   "source": [
    "<div style=\"border: 2px solid #007acc; padding: 2px; border-radius: 10px; background-color: #f0f8ff; text-align: left;width: 99%;\"> </div>"
   ]
  },
  {
   "cell_type": "markdown",
   "id": "e0abe716-14fd-4cee-9695-9d9e53f78d3b",
   "metadata": {},
   "source": [
    "### 13. Mean Number of Casualties by Road Surface × Weather × Severity."
   ]
  },
  {
   "cell_type": "markdown",
   "id": "9f1ff8c7-c6bb-4a82-af59-7aca75cb2e30",
   "metadata": {},
   "source": [
    "<div style=\"border: 2px solid #007acc; padding: 2px; border-radius: 10px; background-color: #f0f8ff; text-align: left;width: 67%;\"> </div>"
   ]
  },
  {
   "cell_type": "markdown",
   "id": "35956dba-a302-49f8-a5d0-d283467cb326",
   "metadata": {},
   "source": [
    "#### Graph: Faceted Heatmap.\n",
    "\n",
    "Each subplot shows the average number of casualties for combinations of Road Surface Conditions (Y-axis) and Weather Conditions (X-axis), separated by Accident Severity. Cells are color-coded according to the mean casualties, and high-risk values (top 25%) are highlighted in bold.\n",
    "\n",
    "#### ⚡Focus\n",
    "\n",
    "Examine how different road surface types interact with weather conditions to influence accident severity and casualty counts.\n",
    "\n",
    "Identify high-risk scenarios where the combination of surface and weather leads to more casualties.\n",
    "\n",
    "Compare patterns across different severity levels side by side."
   ]
  },
  {
   "cell_type": "code",
   "execution_count": null,
   "id": "056ac478-4587-4111-9a9f-04c0bd96eef1",
   "metadata": {},
   "outputs": [],
   "source": [
    "# All unique road surfaces and weather conditions\n",
    "all_roads = sorted(df[\"Road_Surface_Conditions\"].unique())\n",
    "all_weather = sorted(df[\"Weather_Conditions\"].unique())\n",
    "\n",
    "# Group and calculate mean casualties\n",
    "heatmap_data = (\n",
    "    df.groupby([\"Road_Surface_Conditions\", \"Weather_Conditions\", \"Accident_Severity\"])\n",
    "      [\"Number_of_Casualties\"]\n",
    "      .mean()\n",
    "      .reset_index()\n",
    ")\n",
    "\n",
    "# Threshold for high-risk cells\n",
    "high_risk_threshold = heatmap_data[\"Number_of_Casualties\"].quantile(0.75)\n",
    "\n",
    "# Unique severities\n",
    "severities = heatmap_data[\"Accident_Severity\"].unique()\n",
    "num_severities = len(severities)\n",
    "\n",
    "# Find common color scale limits\n",
    "vmin = heatmap_data[\"Number_of_Casualties\"].min()\n",
    "vmax = heatmap_data[\"Number_of_Casualties\"].max()\n",
    "\n",
    "# Create subplots\n",
    "fig, axes = plt.subplots(1, num_severities, figsize=(6*num_severities, 6), sharey=True)\n",
    "\n",
    "for ax, severity in zip(axes, severities):\n",
    "    # Pivot and reindex to ensure all road surfaces and weather conditions are present\n",
    "    pivot_table = (\n",
    "        heatmap_data[heatmap_data[\"Accident_Severity\"] == severity]\n",
    "        .pivot(index=\"Road_Surface_Conditions\", columns=\"Weather_Conditions\", values=\"Number_of_Casualties\")\n",
    "        .reindex(index=all_roads, columns=all_weather, fill_value=0)\n",
    "    )\n",
    "\n",
    "    # Annotate high-risk cells\n",
    "    annot = pivot_table.copy()\n",
    "    for col in annot.columns:\n",
    "        annot[col] = annot[col].map(lambda x: f\"{x:.2f}\" if x < high_risk_threshold else f\"**{x:.2f}**\")\n",
    "\n",
    "    sns.heatmap(\n",
    "        pivot_table,\n",
    "        annot=annot,\n",
    "        fmt='',\n",
    "        cmap=\"YlOrRd\",\n",
    "        vmin=vmin, vmax=vmax,\n",
    "        cbar=(ax==axes[-1]),\n",
    "        cbar_kws={'label': 'Mean Casualties'},\n",
    "        ax=ax\n",
    "    )\n",
    "    \n",
    "    ax.set_title(f\"Severity = {severity}\", fontsize=14)\n",
    "    ax.set_xlabel(\"Weather Conditions\", fontsize=12)\n",
    "    ax.set_ylabel(\"Road Surface Conditions\", fontsize=12)\n",
    "    \n",
    "    # Ensure all road surface labels appear on Y-axis\n",
    "    ax.set_yticks([i + 0.5 for i in range(len(all_roads))])\n",
    "    ax.set_yticklabels(all_roads, rotation=0, fontsize=10)\n",
    "    \n",
    "    ax.set_xticklabels(ax.get_xticklabels(), rotation=45, ha=\"right\", fontsize=10)\n",
    "\n",
    "plt.suptitle(\"Mean Number of Casualties by Road Surface × Weather × Severity\", fontsize=16, y=1.05)\n",
    "plt.tight_layout()\n",
    "plt.show()\n"
   ]
  },
  {
   "cell_type": "markdown",
   "id": "13b601ee-4676-47ba-bc41-c4c470f823af",
   "metadata": {},
   "source": [
    "#### 💡Insight\n",
    "\n",
    "Surfaces like Wet, Snow, or Ice combined with adverse weather (Rain, Snow, Fog) show higher average casualties, especially for severe accidents.\n",
    "\n",
    "Dry surfaces under clear weather generally have low casualties, even for moderate severity.\n",
    "\n",
    "Highlighting high-risk cells makes it easy to pinpoint dangerous combinations, which can inform road safety interventions and preventive measures.\n",
    "\n",
    "The consistent color scale across severities helps quickly compare severity levels for the same road/weather conditions."
   ]
  },
  {
   "cell_type": "markdown",
   "id": "dedd35d8-0ac4-4c31-a743-dcc74759db9f",
   "metadata": {},
   "source": [
    "<div style=\"border: 2px solid #007acc; padding: 2px; border-radius: 10px; background-color: #f0f8ff; text-align: left;width: 99%;\"> </div>"
   ]
  },
  {
   "cell_type": "markdown",
   "id": "281156c2-9fd4-4320-bfed-8e50aa0d12a4",
   "metadata": {},
   "source": [
    "### 14. Average Casualties by Junction Detail × Road Surface Conditions × Severity (Sorted by Total Casualties)."
   ]
  },
  {
   "cell_type": "markdown",
   "id": "47aaba6e-5936-4230-a999-39bbc31679c6",
   "metadata": {},
   "source": [
    "<div style=\"border: 2px solid #007acc; padding: 2px; border-radius: 10px; background-color: #f0f8ff; text-align: left;width: 89%;\"> </div>"
   ]
  },
  {
   "cell_type": "markdown",
   "id": "6ba9808e-452e-4a35-b8e1-51a8a147ec4d",
   "metadata": {},
   "source": [
    "#### Graph Faceted Barplot.\n",
    "\n",
    "Each subplot represents a Road Surface Condition. Bars show the average number of casualties for each Junction Detail, sorted from highest to lowest total casualties. Accident Severity (Slight, Serious, Fatal) is color-coded using a custom palette (green → slight, orange → serious, red → fatal). Each bar is annotated with its exact value.\n",
    "\n",
    "#### ⚡Focus\n",
    "\n",
    "Identify which junctions contribute most to casualties under each road surface condition.\n",
    "\n",
    "Compare severity-specific risks across junction types and road surfaces.\n",
    "\n",
    "Make high-risk junctions immediately visible through sorting and annotations."
   ]
  },
  {
   "cell_type": "code",
   "execution_count": null,
   "id": "79267017-63dc-4936-af19-cd06eb79dd5a",
   "metadata": {},
   "outputs": [],
   "source": [
    "# Compute mean casualties per combination\n",
    "grouped = (\n",
    "    df.groupby([\"Road_Surface_Conditions\", \"Junction_Detail\", \"Accident_Severity\"])\n",
    "      [\"Number_of_Casualties\"].mean()\n",
    "      .reset_index()\n",
    ")\n",
    "\n",
    "# Define severity palette\n",
    "palette = {\n",
    "    \"Slight\": \"#4daf4a\",   # Green\n",
    "    \"Serious\": \"#ff7f00\",  # Orange\n",
    "    \"Fatal\": \"#e41a1c\"     # Red\n",
    "}\n",
    "\n",
    "# Facet grid barplots\n",
    "g = sns.FacetGrid(\n",
    "    grouped, \n",
    "    col=\"Road_Surface_Conditions\", \n",
    "    col_wrap=3, \n",
    "    height=4, \n",
    "    sharey=False\n",
    ")\n",
    "\n",
    "# Map bars sorted by total casualties per junction\n",
    "def sorted_barplot(data, **kwargs):\n",
    "    # Sum casualties across severities for sorting\n",
    "    order = data.groupby(\"Junction_Detail\")[\"Number_of_Casualties\"].sum().sort_values(ascending=False).index\n",
    "    ax = sns.barplot(\n",
    "        data=data,\n",
    "        x=\"Junction_Detail\",\n",
    "        y=\"Number_of_Casualties\",\n",
    "        hue=\"Accident_Severity\",\n",
    "        palette=palette,\n",
    "        order=order,\n",
    "        **kwargs\n",
    "    )\n",
    "    # Annotate bars\n",
    "    for p in ax.patches:\n",
    "        ax.annotate(f'{p.get_height():.1f}', \n",
    "                    (p.get_x() + p.get_width() / 2., p.get_height()), \n",
    "                    ha='center', va='bottom', fontsize=8, rotation=90)\n",
    "    return ax\n",
    "\n",
    "g.map_dataframe(sorted_barplot)\n",
    "\n",
    "# Styling\n",
    "g.add_legend(title=\"Accident Severity\")\n",
    "g.set_axis_labels(\"Junction Detail\", \"Avg. Number of Casualties\")\n",
    "g.set_titles(\"{col_name}\")\n",
    "for ax in g.axes.flatten():\n",
    "    ax.tick_params(axis=\"x\", rotation=45)\n",
    "\n",
    "plt.subplots_adjust(top=0.9)\n",
    "g.fig.suptitle(\"Average Casualties by Junction Detail × Road Surface Conditions × Severity\", fontsize=14)\n",
    "plt.show()\n"
   ]
  },
  {
   "cell_type": "markdown",
   "id": "1e359e35-9094-445e-88f7-245bc7988e21",
   "metadata": {},
   "source": [
    "#### 💡Insight\n",
    "\n",
    "Crossroads and Mini-roundabouts consistently have the highest average casualties, especially under Wet or Snow surfaces.\n",
    "\n",
    "Slight severity dominates simpler junctions like T-junctions, while Serious and Fatal accidents cluster at complex junctions.\n",
    "\n",
    "Annotated values and sorted bars make it easy to prioritize high-risk locations for targeted safety measures.\n",
    "\n",
    "This visualization clearly shows how road surface conditions amplify risk at complex junctions."
   ]
  },
  {
   "cell_type": "markdown",
   "id": "d787e594-c729-4443-b324-c53a8753aa0a",
   "metadata": {},
   "source": [
    "<div style=\"border: 2px solid #007acc; padding: 2px; border-radius: 10px; background-color: #f0f8ff; text-align: left;width: 99%;\"> </div>"
   ]
  },
  {
   "cell_type": "markdown",
   "id": "a862cabc-80a4-42bf-ba5b-5615928eb307",
   "metadata": {},
   "source": [
    "<div style=\"border: 2px solid #007acc; padding: 2px; border-radius: 10px; background-color: #007acc; text-align: left;width: 99%;\"> </div>"
   ]
  },
  {
   "cell_type": "markdown",
   "id": "f6816034-a222-47ac-8999-6067856ac225",
   "metadata": {},
   "source": [
    "## Geograph Map"
   ]
  },
  {
   "cell_type": "markdown",
   "id": "25597669-c05b-468e-8a21-750579d21299",
   "metadata": {},
   "source": [
    "<div style=\"border: 2px solid #007acc; padding: 2px; border-radius: 10px; background-color: #007acc; text-align: left;width: 19%;\"> </div>"
   ]
  },
  {
   "cell_type": "code",
   "execution_count": null,
   "id": "5baf2b04-72da-4000-a553-d24cddc3f83e",
   "metadata": {},
   "outputs": [],
   "source": [
    "#Check the Lat/long field.\n",
    "type(df.loc[0, 'GeoPoint'])"
   ]
  },
  {
   "cell_type": "code",
   "execution_count": null,
   "id": "b51c0c5f-b6fb-46af-b2a6-03509852905f",
   "metadata": {},
   "outputs": [],
   "source": [
    "# Convert GeoPoint string to float with full precision and created two fields.\n",
    "df['Latitude'] = df['GeoPoint'].apply(lambda x: float(x.strip('()').split(',')[0]))\n",
    "df['Longitude'] = df['GeoPoint'].apply(lambda x: float(x.strip('()').split(',')[1]))\n",
    "\n",
    "# Optional: display full precision\n",
    "pd.set_option('display.float_format', lambda x: '%.6f' % x)\n",
    "\n",
    "# Check\n",
    "df[['GeoPoint','Latitude','Longitude']].head()\n"
   ]
  },
  {
   "cell_type": "markdown",
   "id": "12ff444f-0ecd-4cf9-af78-b1f34b8630b0",
   "metadata": {},
   "source": [
    "### Make the Risk Score and Map the 10 Top Cities. "
   ]
  },
  {
   "cell_type": "markdown",
   "id": "e25b1c51-e75e-4955-bd29-c7729dcb5932",
   "metadata": {},
   "source": [
    "<div style=\"border: 2px solid #007acc; padding: 2px; border-radius: 10px; background-color: #f0f8ff; text-align: left;width: 45%;\"> </div>"
   ]
  },
  {
   "cell_type": "code",
   "execution_count": null,
   "id": "5b7a1a5f-3e6e-4671-8170-c100ce7b96ff",
   "metadata": {},
   "outputs": [],
   "source": [
    "# Risk score Calculation.\n",
    "total_groupby = df['Local_Authority_District'].value_counts()\n",
    "serious_or_fatal = df[df['Accident_Severity'].isin(['Serious', 'Fatal'])]\n",
    "serious_fatal_total_groupby = serious_or_fatal['Local_Authority_District'].value_counts()\n",
    "\n",
    "#total_groupby\n",
    "#serious_or_fatal\n",
    "#serious_fatal_total_groupby"
   ]
  },
  {
   "cell_type": "code",
   "execution_count": null,
   "id": "917a0f82-1304-4fd6-abb4-bd990268cde9",
   "metadata": {},
   "outputs": [],
   "source": [
    "risk_df = pd.DataFrame({\n",
    "    'Total_Accidents': total_groupby,\n",
    "    'Serious_or_Fatal': serious_fatal_total_groupby\n",
    "}).fillna(0)\n",
    "\n",
    "risk_df['Risk_Score (%)'] = (risk_df['Serious_or_Fatal'] / risk_df['Total_Accidents']) * 100\n",
    "top_risky = risk_df.sort_values(by='Risk_Score (%)', ascending=False).head(20)\n",
    "\n",
    "print(\"Top 10 Most Dangerous Districts Based on Risk Score:\\n\")\n",
    "print(top_risky)"
   ]
  },
  {
   "cell_type": "code",
   "execution_count": null,
   "id": "717d54b5-283a-438c-8883-9624a7be8143",
   "metadata": {},
   "outputs": [],
   "source": [
    "#pip install folium"
   ]
  },
  {
   "cell_type": "markdown",
   "id": "dbf0a793-bd9b-495e-9bf7-1eb2c87a8d29",
   "metadata": {},
   "source": [
    "### Create the Map, with TopCities Pointed and With ToolTips."
   ]
  },
  {
   "cell_type": "markdown",
   "id": "9ee0a938-46b8-44b1-84ed-bbf951fad2e3",
   "metadata": {},
   "source": [
    "<div style=\"border: 2px solid #007acc; padding: 2px; border-radius: 10px; background-color: #f0f8ff; text-align: left;width: 55%;\"> </div>"
   ]
  },
  {
   "cell_type": "markdown",
   "id": "2b6e7db7-d5c2-47d0-9baa-354fe312a9af",
   "metadata": {},
   "source": [
    "# As of now block this working code. As it is not static its not working in the github. Also the code is blocking. \n",
    "# So its marking now as Mark down\n",
    "\n",
    "import folium\n",
    "import matplotlib.cm as cm\n",
    "import matplotlib.colors as mcolors\n",
    "import pandas as pd\n",
    "\n",
    "# Step 0: Ensure district column exists\n",
    "top_risky_coords = top_risky.copy()\n",
    "top_risky_coords['District'] = top_risky_coords.index  # create column from index\n",
    "\n",
    "# Step 1: Get mean lat/lon per district\n",
    "district_coords = df.groupby('Local_Authority_District')[['Latitude','Longitude']].mean().reset_index()\n",
    "district_coords.rename(columns={'Local_Authority_District':'District'}, inplace=True)\n",
    "\n",
    "# Step 2: Merge top risky districts with coordinates\n",
    "top_risky_coords = pd.merge(top_risky_coords, district_coords, on='District', how='left')\n",
    "\n",
    "# Step 3: Normalize Risk_Score for color mapping and radius\n",
    "norm = mcolors.Normalize(vmin=top_risky_coords['Risk_Score (%)'].min(),\n",
    "                         vmax=top_risky_coords['Risk_Score (%)'].max())\n",
    "cmap = cm.Reds\n",
    "\n",
    "# Radius scaling: adjust min/max radius as needed\n",
    "min_radius = 5\n",
    "max_radius = 20\n",
    "risk_min = top_risky_coords['Risk_Score (%)'].min()\n",
    "risk_max = top_risky_coords['Risk_Score (%)'].max()\n",
    "def scale_radius(risk):\n",
    "    return min_radius + (risk - risk_min)/(risk_max - risk_min)*(max_radius - min_radius)\n",
    "\n",
    "# Step 4: Create Folium map with fixed frame size\n",
    "m = folium.Map(\n",
    "    location=[54.0, -2.0],\n",
    "    zoom_start=6,\n",
    "    tiles='OpenStreetMap',\n",
    "    width=900,    # frame width in pixels\n",
    "    height=400    # frame height in pixels\n",
    ")\n",
    "\n",
    "# Step 5: Add circles with serial numbers and tooltips\n",
    "for i, row in top_risky_coords.iterrows():\n",
    "    rgba_color = cmap(norm(row['Risk_Score (%)']))\n",
    "    hex_color = mcolors.to_hex(rgba_color)\n",
    "    radius = scale_radius(row['Risk_Score (%)'])\n",
    "    \n",
    "    tooltip_text = (\n",
    "        f\"<b>{i+1}. {row['District']}</b><br>\"\n",
    "        f\"Total Accidents: {row['Total_Accidents']}<br>\"\n",
    "        f\"Serious/Fatal: {row['Serious_or_Fatal']}<br>\"\n",
    "        f\"Risk Score: {row['Risk_Score (%)']:.2f}%\"\n",
    "    )\n",
    "    \n",
    "    # Circle marker\n",
    "    folium.CircleMarker(\n",
    "        location=[row['Latitude'], row['Longitude']],\n",
    "        radius=radius,\n",
    "        color=hex_color,\n",
    "        fill=True,\n",
    "        fill_color=hex_color,\n",
    "        fill_opacity=0.7,\n",
    "        popup=folium.Popup(tooltip_text, max_width=250),\n",
    "        tooltip=folium.Tooltip(tooltip_text, sticky=True)\n",
    "    ).add_to(m)\n",
    "    \n",
    "    # Serial number on top\n",
    "    folium.map.Marker(\n",
    "        [row['Latitude'], row['Longitude']],\n",
    "        icon=folium.DivIcon(\n",
    "            html=f'<div style=\"font-size:10pt; font-weight:bold; color:black\">{i+1}</div>'\n",
    "        )\n",
    "    ).add_to(m)\n",
    "\n",
    "m\n"
   ]
  },
  {
   "cell_type": "markdown",
   "id": "5fa63173-a0ba-4d37-8768-f55884677956",
   "metadata": {},
   "source": [
    "<div style=\"border: 2px solid #007acc; padding: 2px; border-radius: 10px; background-color: #007acc; text-align: left;width: 99%;\"> </div>"
   ]
  },
  {
   "cell_type": "code",
   "execution_count": null,
   "id": "5e901a21-6ef4-4853-94e2-9666aaadda18",
   "metadata": {},
   "outputs": [],
   "source": [
    "# To get a static mode the below code is used for Map case. The real working code is the above one.\n",
    "\n",
    "import matplotlib.pyplot as plt\n",
    "\n",
    "# Copy of top risky districts with coordinates\n",
    "top_risky_plot = top_risky.copy()\n",
    "top_risky_plot['District'] = top_risky_plot.index\n",
    "top_risky_plot = pd.merge(\n",
    "    top_risky_plot,\n",
    "    df.groupby('Local_Authority_District')[['Latitude','Longitude']].mean().reset_index().rename(columns={'Local_Authority_District':'District'}),\n",
    "    on='District', how='left'\n",
    ")\n",
    "\n",
    "# Scale radius by Risk Score\n",
    "max_radius = 3000  # adjust for visibility\n",
    "top_risky_plot['Radius'] = (top_risky_plot['Risk_Score (%)'] / top_risky_plot['Risk_Score (%)'].max()) * max_radius\n",
    "\n",
    "# UK map bounding box\n",
    "fig, ax = plt.subplots(figsize=(6,8))\n",
    "ax.set_xlim([-8, 2])   # approx longitudes of UK\n",
    "ax.set_ylim([49, 61])  # approx latitudes of UK\n",
    "\n",
    "# Add circles\n",
    "for i, row in top_risky_plot.iterrows():\n",
    "    ax.scatter(row['Longitude'], row['Latitude'],\n",
    "               s=row['Radius'], color='red', alpha=0.6)\n",
    "    ax.text(row['Longitude'], row['Latitude'],\n",
    "            f\"{i+1}\\n{row['Total_Accidents']}/{row['Serious_or_Fatal']}\",\n",
    "            fontsize=9, ha='center', va='center', fontweight='bold')\n",
    "\n",
    "# Title and axes\n",
    "plt.title(\"Top 10 Most Dangerous UK Districts by Risk Score\\n(Number / Serious-Fatal)\", fontsize=16)\n",
    "ax.set_xlabel(\"Longitude\")\n",
    "ax.set_ylabel(\"Latitude\")\n",
    "plt.tight_layout()\n",
    "plt.savefig(\"top_10_risky_districts_static.png\", dpi=300)\n",
    "plt.show()\n"
   ]
  },
  {
   "cell_type": "code",
   "execution_count": null,
   "id": "a670fd72-d03e-429a-ad7d-5da123cf9cba",
   "metadata": {},
   "outputs": [],
   "source": []
  }
 ],
 "metadata": {
  "kernelspec": {
   "display_name": "Python 3 (ipykernel)",
   "language": "python",
   "name": "python3"
  },
  "language_info": {
   "codemirror_mode": {
    "name": "ipython",
    "version": 3
   },
   "file_extension": ".py",
   "mimetype": "text/x-python",
   "name": "python",
   "nbconvert_exporter": "python",
   "pygments_lexer": "ipython3",
   "version": "3.12.7"
  }
 },
 "nbformat": 4,
 "nbformat_minor": 5
}
